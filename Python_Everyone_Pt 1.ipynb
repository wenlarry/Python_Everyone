{
 "cells": [
  {
   "cell_type": "code",
   "execution_count": 1,
   "metadata": {},
   "outputs": [
    {
     "name": "stdout",
     "output_type": "stream",
     "text": [
      "hello World\n"
     ]
    }
   ],
   "source": [
    "print('hello World')"
   ]
  },
  {
   "cell_type": "code",
   "execution_count": 3,
   "metadata": {
    "scrolled": true
   },
   "outputs": [
    {
     "ename": "NameError",
     "evalue": "name 'good' is not defined",
     "output_type": "error",
     "traceback": [
      "\u001b[0;31m---------------------------------------------------------------------------\u001b[0m",
      "\u001b[0;31mNameError\u001b[0m                                 Traceback (most recent call last)",
      "\u001b[0;32m<ipython-input-3-91f50017593b>\u001b[0m in \u001b[0;36m<module>\u001b[0;34m\u001b[0m\n\u001b[1;32m      1\u001b[0m \u001b[0;31m# use quit()\u001b[0m\u001b[0;34m\u001b[0m\u001b[0;34m\u001b[0m\u001b[0;34m\u001b[0m\u001b[0m\n\u001b[0;32m----> 2\u001b[0;31m \u001b[0mgood\u001b[0m\u001b[0;34m-\u001b[0m\u001b[0mbye\u001b[0m\u001b[0;34m\u001b[0m\u001b[0;34m\u001b[0m\u001b[0m\n\u001b[0m",
      "\u001b[0;31mNameError\u001b[0m: name 'good' is not defined"
     ]
    }
   ],
   "source": [
    "# use quit()\n",
    "good-bye"
   ]
  },
  {
   "cell_type": "code",
   "execution_count": null,
   "metadata": {},
   "outputs": [],
   "source": [
    "# if a reserve word\n",
    "if you don't mind."
   ]
  },
  {
   "cell_type": "code",
   "execution_count": 27,
   "metadata": {},
   "outputs": [
    {
     "name": "stdout",
     "output_type": "stream",
     "text": [
      "6\n"
     ]
    }
   ],
   "source": [
    "x=6\n",
    "print(x)"
   ]
  },
  {
   "cell_type": "code",
   "execution_count": 28,
   "metadata": {},
   "outputs": [
    {
     "name": "stdout",
     "output_type": "stream",
     "text": [
      "42\n"
     ]
    }
   ],
   "source": [
    "y=x*7\n",
    "print(y)"
   ]
  },
  {
   "cell_type": "code",
   "execution_count": 29,
   "metadata": {},
   "outputs": [
    {
     "name": "stdout",
     "output_type": "stream",
     "text": [
      "4\n"
     ]
    }
   ],
   "source": [
    "print (4)"
   ]
  },
  {
   "cell_type": "code",
   "execution_count": 30,
   "metadata": {},
   "outputs": [
    {
     "data": {
      "text/plain": [
       "str"
      ]
     },
     "execution_count": 30,
     "metadata": {},
     "output_type": "execute_result"
    }
   ],
   "source": [
    "# type of value. strings - within quotations\n",
    "type ('Hi World')"
   ]
  },
  {
   "cell_type": "code",
   "execution_count": 31,
   "metadata": {},
   "outputs": [
    {
     "data": {
      "text/plain": [
       "int"
      ]
     },
     "execution_count": 31,
     "metadata": {},
     "output_type": "execute_result"
    }
   ],
   "source": [
    "# type - integer\n",
    "type (18)"
   ]
  },
  {
   "cell_type": "code",
   "execution_count": 32,
   "metadata": {},
   "outputs": [
    {
     "data": {
      "text/plain": [
       "float"
      ]
     },
     "execution_count": 32,
     "metadata": {},
     "output_type": "execute_result"
    }
   ],
   "source": [
    "# type - float\n",
    "type(2.8)"
   ]
  },
  {
   "cell_type": "code",
   "execution_count": 33,
   "metadata": {},
   "outputs": [
    {
     "ename": "SyntaxError",
     "evalue": "invalid syntax (<ipython-input-33-bff15d9cc420>, line 1)",
     "output_type": "error",
     "traceback": [
      "\u001b[0;36m  File \u001b[0;32m\"<ipython-input-33-bff15d9cc420>\"\u001b[0;36m, line \u001b[0;32m1\u001b[0m\n\u001b[0;31m    type - strings - within quotation marks\u001b[0m\n\u001b[0m                                    ^\u001b[0m\n\u001b[0;31mSyntaxError\u001b[0m\u001b[0;31m:\u001b[0m invalid syntax\n"
     ]
    }
   ],
   "source": [
    "type - strings - within quotation marks\n",
    "type('18')"
   ]
  },
  {
   "cell_type": "code",
   "execution_count": 34,
   "metadata": {},
   "outputs": [
    {
     "name": "stdout",
     "output_type": "stream",
     "text": [
      "1 0 0\n"
     ]
    }
   ],
   "source": [
    "# interpreted as a comma seperated sequence of integers\n",
    "print (1,000,000)"
   ]
  },
  {
   "cell_type": "code",
   "execution_count": 35,
   "metadata": {},
   "outputs": [
    {
     "data": {
      "text/plain": [
       "float"
      ]
     },
     "execution_count": 35,
     "metadata": {},
     "output_type": "execute_result"
    }
   ],
   "source": [
    "# Variables - 3 assignments (string to messsage); integer to 18); approx value of pi to pi\n",
    "# Variables - case sensitive; underscore(_) can appear in a name\n",
    "# Variables - 96reverse is illegal as it begins with a number\n",
    "# Variables - paint@ is illegal as it contains '@'\n",
    "\n",
    "# Python has 33 keywords eg lambda\n",
    "message = 'gobsmack'\n",
    "n = 18\n",
    "pi = 3.14159265\n",
    "\n",
    "#print(n)\n",
    "#print (pi)\n",
    "\n",
    "#type(message)\n",
    "#type(n)\n",
    "type(pi)"
   ]
  },
  {
   "cell_type": "code",
   "execution_count": 36,
   "metadata": {},
   "outputs": [
    {
     "name": "stdout",
     "output_type": "stream",
     "text": [
      "1\n",
      "2\n"
     ]
    }
   ],
   "source": [
    "# Statements - A script contains a sequence of statements. If more than one statement. the results appear one at a\n",
    "# time as the statements execute\n",
    "\n",
    "\n",
    "print(1)\n",
    "x = 2\n",
    "print(x)"
   ]
  },
  {
   "cell_type": "code",
   "execution_count": 37,
   "metadata": {},
   "outputs": [],
   "source": [
    "# Operators/Operands\n",
    "# '+, -, *, /'\n",
    "#20+32\n",
    "#5**2\n",
    "#(5+9)*(15-7)"
   ]
  },
  {
   "cell_type": "code",
   "execution_count": 38,
   "metadata": {},
   "outputs": [
    {
     "data": {
      "text/plain": [
       "0.9833333333333333"
      ]
     },
     "execution_count": 38,
     "metadata": {},
     "output_type": "execute_result"
    }
   ],
   "source": [
    "minute =59\n",
    "minute/60"
   ]
  },
  {
   "cell_type": "code",
   "execution_count": 39,
   "metadata": {},
   "outputs": [
    {
     "data": {
      "text/plain": [
       "6"
      ]
     },
     "execution_count": 39,
     "metadata": {},
     "output_type": "execute_result"
    }
   ],
   "source": [
    "# Expression - a combination of values, variable and operators.\n",
    "# An expression by itself doesn't work\n",
    "# Order of opearions - PEMDAS - as precedence\n",
    "5\n",
    "x=5\n",
    "x+1"
   ]
  },
  {
   "cell_type": "code",
   "execution_count": 40,
   "metadata": {},
   "outputs": [
    {
     "name": "stdout",
     "output_type": "stream",
     "text": [
      "1\n"
     ]
    }
   ],
   "source": [
    "# Modus Operator - %; gives the remainder\n",
    "#quotient = 7//3\n",
    "#print(quotient)\n",
    "\n",
    "remainder = 7%3\n",
    "print(remainder)"
   ]
  },
  {
   "cell_type": "code",
   "execution_count": 41,
   "metadata": {},
   "outputs": [
    {
     "name": "stdout",
     "output_type": "stream",
     "text": [
      "111181\n"
     ]
    }
   ],
   "source": [
    "# string - + ; performs concatenation, join the strings by linking them end to end\n",
    "\n",
    "#first =10\n",
    "#second = 11\n",
    "#print(first+second)\n",
    "\n",
    "first = '111'\n",
    "second = '181'\n",
    "print (first + second)"
   ]
  },
  {
   "cell_type": "code",
   "execution_count": 42,
   "metadata": {},
   "outputs": [
    {
     "name": "stdout",
     "output_type": "stream",
     "text": [
      "MMM\n"
     ]
    }
   ],
   "source": [
    "#string - * operator, multiply the content of a string by an integer\n",
    "\n",
    "first = 'M'\n",
    "second = 3\n",
    "print(first * second)"
   ]
  },
  {
   "cell_type": "code",
   "execution_count": 43,
   "metadata": {},
   "outputs": [],
   "source": [
    "# Asking user for input. Python built in function 'input'\n",
    "#name = input()\n",
    "#input in dialog box\n",
    "#print(name) "
   ]
  },
  {
   "cell_type": "code",
   "execution_count": 44,
   "metadata": {},
   "outputs": [],
   "source": [
    "#name = input()"
   ]
  },
  {
   "cell_type": "code",
   "execution_count": 45,
   "metadata": {},
   "outputs": [],
   "source": [
    "#print(name)"
   ]
  },
  {
   "cell_type": "code",
   "execution_count": 46,
   "metadata": {},
   "outputs": [
    {
     "ename": "NameError",
     "evalue": "name 'pizza' is not defined",
     "output_type": "error",
     "traceback": [
      "\u001b[0;31m---------------------------------------------------------------------------\u001b[0m",
      "\u001b[0;31mNameError\u001b[0m                                 Traceback (most recent call last)",
      "\u001b[0;32m<ipython-input-46-81b4d762524b>\u001b[0m in \u001b[0;36m<module>\u001b[0;34m\u001b[0m\n\u001b[1;32m      1\u001b[0m \u001b[0;31m# Python has no understanding of pizza and slices\u001b[0m\u001b[0;34m\u001b[0m\u001b[0;34m\u001b[0m\u001b[0;34m\u001b[0m\u001b[0m\n\u001b[0;32m----> 2\u001b[0;31m \u001b[0;32mfor\u001b[0m \u001b[0mslice\u001b[0m \u001b[0;32min\u001b[0m \u001b[0mpizza\u001b[0m\u001b[0;34m:\u001b[0m\u001b[0;34m\u001b[0m\u001b[0;34m\u001b[0m\u001b[0m\n\u001b[0m\u001b[1;32m      3\u001b[0m     \u001b[0mprint\u001b[0m\u001b[0;34m(\u001b[0m\u001b[0mslice\u001b[0m\u001b[0;34m)\u001b[0m\u001b[0;34m\u001b[0m\u001b[0;34m\u001b[0m\u001b[0m\n",
      "\u001b[0;31mNameError\u001b[0m: name 'pizza' is not defined"
     ]
    }
   ],
   "source": [
    "# Python has no understanding of pizza and slices\n",
    "for slice in pizza:\n",
    "    print(slice)"
   ]
  },
  {
   "cell_type": "code",
   "execution_count": 47,
   "metadata": {},
   "outputs": [],
   "source": [
    "# Debugging\n",
    "\n",
    "# bad name = 5 - invalid syntax. Put a space in a varaible name\n",
    "\n",
    "# month =09 - invalid token \n",
    "\n",
    "#principal = 345.67\n",
    "#interest = principle * rate - name 'principle is not defined'\n"
   ]
  },
  {
   "cell_type": "code",
   "execution_count": 48,
   "metadata": {},
   "outputs": [],
   "source": [
    "# Variable names are case sensitive\n",
    "\n",
    "# to evaluate 1/2pi, cannot write 1.0/2.0*pi as division happens first \n"
   ]
  },
  {
   "cell_type": "code",
   "execution_count": 49,
   "metadata": {},
   "outputs": [
    {
     "data": {
      "text/plain": [
       "False"
      ]
     },
     "execution_count": 49,
     "metadata": {},
     "output_type": "execute_result"
    }
   ],
   "source": [
    "#Boolean Expression\n",
    "# Use operator '=='; a comparison operator\n",
    "#5==5\n",
    "5==6"
   ]
  },
  {
   "cell_type": "code",
   "execution_count": 50,
   "metadata": {},
   "outputs": [
    {
     "data": {
      "text/plain": [
       "bool"
      ]
     },
     "execution_count": 50,
     "metadata": {},
     "output_type": "execute_result"
    }
   ],
   "source": [
    "#type(True)\n",
    "type(False)"
   ]
  },
  {
   "cell_type": "code",
   "execution_count": 51,
   "metadata": {},
   "outputs": [
    {
     "name": "stdout",
     "output_type": "stream",
     "text": [
      "small\n"
     ]
    }
   ],
   "source": [
    "# Logical operators: and, or and not\n",
    "\n",
    "# conditional Statements eg 'if' statement\n",
    "\n",
    "x = 3\n",
    "if x < 10:\n",
    "    print('small')\n"
   ]
  },
  {
   "cell_type": "code",
   "execution_count": 52,
   "metadata": {},
   "outputs": [
    {
     "name": "stdout",
     "output_type": "stream",
     "text": [
      "x is odd\n"
     ]
    }
   ],
   "source": [
    "# Alternative execution\n",
    "\n",
    "x=3\n",
    "if x%2 == 0 :\n",
    "    print('x is even')\n",
    "else :\n",
    "    print ('x is odd')"
   ]
  },
  {
   "cell_type": "code",
   "execution_count": 53,
   "metadata": {},
   "outputs": [],
   "source": [
    "# Chained conditionals. More than 2 possibilities\n",
    "\n",
    "#if choice == 'a' :\n",
    "    #print('bad')\n",
    "#elif choice == 'b' :\n",
    "    #print('good')\n",
    "#elif choice == 'c' :\n",
    "   # print ('close but not good')"
   ]
  },
  {
   "cell_type": "code",
   "execution_count": 54,
   "metadata": {},
   "outputs": [
    {
     "name": "stdout",
     "output_type": "stream",
     "text": [
      "x is greater than y\n"
     ]
    }
   ],
   "source": [
    "# Nested conditional. One conditional nested with another. Good to avoid !\n",
    "\n",
    "x = 3\n",
    "y = 1\n",
    "\n",
    "if x == y:\n",
    "    print ('x and y are equal')\n",
    "else:\n",
    "    if x < y :\n",
    "        print ('x is less than y')\n",
    "    else:\n",
    "        print('x is greater than y')"
   ]
  },
  {
   "cell_type": "code",
   "execution_count": 55,
   "metadata": {},
   "outputs": [
    {
     "name": "stdout",
     "output_type": "stream",
     "text": [
      "enter a number\n"
     ]
    }
   ],
   "source": [
    "# Catching exceptions using try and except\n",
    "\n",
    "# if try works skip to except\n",
    "# if try fails goto except\n",
    "\n",
    "#inp = input ('Enter Fahrenheit Temp:')\n",
    "try:\n",
    "    fahr = float(inp)\n",
    "    cel = (fahr - 32.0) * 5.0/9.0\n",
    "    print(cel)\n",
    "except:\n",
    "    print('enter a number')\n"
   ]
  },
  {
   "cell_type": "code",
   "execution_count": 56,
   "metadata": {},
   "outputs": [
    {
     "data": {
      "text/plain": [
       "False"
      ]
     },
     "execution_count": 56,
     "metadata": {},
     "output_type": "execute_result"
    }
   ],
   "source": [
    "#short circuit evaluation of logical expression\n",
    "\n",
    "#x = 6\n",
    "#y = 2\n",
    "#x >=2 and (x/y) >2\n",
    "\n",
    "x =1\n",
    "y =0\n",
    "x >= 2 and (x/y) >2"
   ]
  },
  {
   "cell_type": "code",
   "execution_count": 57,
   "metadata": {},
   "outputs": [
    {
     "ename": "ZeroDivisionError",
     "evalue": "division by zero",
     "output_type": "error",
     "traceback": [
      "\u001b[0;31m---------------------------------------------------------------------------\u001b[0m",
      "\u001b[0;31mZeroDivisionError\u001b[0m                         Traceback (most recent call last)",
      "\u001b[0;32m<ipython-input-57-dc30fa1c3d0a>\u001b[0m in \u001b[0;36m<module>\u001b[0;34m\u001b[0m\n\u001b[1;32m      4\u001b[0m \u001b[0mx\u001b[0m \u001b[0;34m=\u001b[0m \u001b[0;36m6\u001b[0m\u001b[0;34m\u001b[0m\u001b[0;34m\u001b[0m\u001b[0m\n\u001b[1;32m      5\u001b[0m \u001b[0my\u001b[0m \u001b[0;34m=\u001b[0m \u001b[0;36m0\u001b[0m\u001b[0;34m\u001b[0m\u001b[0;34m\u001b[0m\u001b[0m\n\u001b[0;32m----> 6\u001b[0;31m \u001b[0mx\u001b[0m \u001b[0;34m>=\u001b[0m \u001b[0;36m2\u001b[0m \u001b[0;32mand\u001b[0m \u001b[0;34m(\u001b[0m\u001b[0mx\u001b[0m\u001b[0;34m/\u001b[0m\u001b[0my\u001b[0m\u001b[0;34m)\u001b[0m\u001b[0;34m>=\u001b[0m \u001b[0;36m2\u001b[0m\u001b[0;34m\u001b[0m\u001b[0;34m\u001b[0m\u001b[0m\n\u001b[0m",
      "\u001b[0;31mZeroDivisionError\u001b[0m: division by zero"
     ]
    }
   ],
   "source": [
    "# Failed because of the evaluation x/y and y was zero.\n",
    "# Above didn't fail because 'x>=2 evaluated to False so 'x/y' was not executed dur to shour ciruit rule\n",
    "\n",
    "x = 6\n",
    "y = 0\n",
    "x >= 2 and (x/y)>= 2"
   ]
  },
  {
   "cell_type": "code",
   "execution_count": 58,
   "metadata": {},
   "outputs": [
    {
     "data": {
      "text/plain": [
       "False"
      ]
     },
     "execution_count": 58,
     "metadata": {},
     "output_type": "execute_result"
    }
   ],
   "source": [
    "# 'y!=0' acts as a guard to insure that only execute (x/y) if y is non zero\n",
    "x =6\n",
    "y = 0\n",
    "x >=2 and y!=0 and (x/y) >2"
   ]
  },
  {
   "cell_type": "code",
   "execution_count": 59,
   "metadata": {},
   "outputs": [
    {
     "ename": "ZeroDivisionError",
     "evalue": "division by zero",
     "output_type": "error",
     "traceback": [
      "\u001b[0;31m---------------------------------------------------------------------------\u001b[0m",
      "\u001b[0;31mZeroDivisionError\u001b[0m                         Traceback (most recent call last)",
      "\u001b[0;32m<ipython-input-59-47c5d3dbf808>\u001b[0m in \u001b[0;36m<module>\u001b[0;34m\u001b[0m\n\u001b[1;32m      2\u001b[0m \u001b[0mx\u001b[0m \u001b[0;34m=\u001b[0m\u001b[0;36m6\u001b[0m\u001b[0;34m\u001b[0m\u001b[0;34m\u001b[0m\u001b[0m\n\u001b[1;32m      3\u001b[0m \u001b[0my\u001b[0m \u001b[0;34m=\u001b[0m\u001b[0;36m0\u001b[0m\u001b[0;34m\u001b[0m\u001b[0;34m\u001b[0m\u001b[0m\n\u001b[0;32m----> 4\u001b[0;31m \u001b[0mx\u001b[0m \u001b[0;34m>=\u001b[0m \u001b[0;36m2\u001b[0m \u001b[0;32mand\u001b[0m \u001b[0;34m(\u001b[0m\u001b[0mx\u001b[0m\u001b[0;34m/\u001b[0m\u001b[0my\u001b[0m\u001b[0;34m)\u001b[0m \u001b[0;34m>\u001b[0m\u001b[0;36m2\u001b[0m \u001b[0;32mand\u001b[0m \u001b[0my\u001b[0m\u001b[0;34m!=\u001b[0m\u001b[0;36m0\u001b[0m\u001b[0;34m\u001b[0m\u001b[0;34m\u001b[0m\u001b[0m\n\u001b[0m",
      "\u001b[0;31mZeroDivisionError\u001b[0m: division by zero"
     ]
    }
   ],
   "source": [
    "#'y!=0' is after the (x/y) calc so the fail\n",
    "x =6\n",
    "y =0\n",
    "x >= 2 and (x/y) >2 and y!=0"
   ]
  },
  {
   "cell_type": "code",
   "execution_count": 60,
   "metadata": {},
   "outputs": [
    {
     "ename": "IndentationError",
     "evalue": "unexpected indent (<ipython-input-60-22016212f770>, line 4)",
     "output_type": "error",
     "traceback": [
      "\u001b[0;36m  File \u001b[0;32m\"<ipython-input-60-22016212f770>\"\u001b[0;36m, line \u001b[0;32m4\u001b[0m\n\u001b[0;31m    y = 6\u001b[0m\n\u001b[0m    ^\u001b[0m\n\u001b[0;31mIndentationError\u001b[0m\u001b[0;31m:\u001b[0m unexpected indent\n"
     ]
    }
   ],
   "source": [
    "#Debugging\n",
    "# Indentation error.Error message points to y that is misleading \n",
    "x =5\n",
    " y = 6"
   ]
  },
  {
   "cell_type": "code",
   "execution_count": 61,
   "metadata": {},
   "outputs": [
    {
     "data": {
      "text/plain": [
       "int"
      ]
     },
     "execution_count": 61,
     "metadata": {},
     "output_type": "execute_result"
    }
   ],
   "source": [
    "# Functions - when you define a function, you specify the name and the sequence of statements. Name of function\n",
    "# is 'type'. The expression in parentheses is the argument of the function.\n",
    "\n",
    "\n",
    "type (32)"
   ]
  },
  {
   "cell_type": "code",
   "execution_count": 62,
   "metadata": {},
   "outputs": [
    {
     "data": {
      "text/plain": [
       "' '"
      ]
     },
     "execution_count": 62,
     "metadata": {},
     "output_type": "execute_result"
    }
   ],
   "source": [
    "# Built In functions. mas and min functions give us the largest and smallest values\n",
    "\n",
    "# max('Hi ming') # largest character in a string\n",
    "\n",
    "min ('Hi ming') # smallest character in a string\n"
   ]
  },
  {
   "cell_type": "code",
   "execution_count": 63,
   "metadata": {},
   "outputs": [
    {
     "data": {
      "text/plain": [
       "7"
      ]
     },
     "execution_count": 63,
     "metadata": {},
     "output_type": "execute_result"
    }
   ],
   "source": [
    "# Arg to 'len' is a string,returns the number of characters in a string.\n",
    "len('Hi Ming')"
   ]
  },
  {
   "cell_type": "code",
   "execution_count": 64,
   "metadata": {},
   "outputs": [
    {
     "data": {
      "text/plain": [
       "3"
      ]
     },
     "execution_count": 64,
     "metadata": {},
     "output_type": "execute_result"
    }
   ],
   "source": [
    "# Type conversion functions/ 'int' takes any value and converts it to an integer.'int' can conver floating point \n",
    "# values to integers\n",
    "\n",
    "#int('32')\n",
    "int(3.888888)"
   ]
  },
  {
   "cell_type": "code",
   "execution_count": 65,
   "metadata": {},
   "outputs": [
    {
     "data": {
      "text/plain": [
       "3.24259"
      ]
     },
     "execution_count": 65,
     "metadata": {},
     "output_type": "execute_result"
    }
   ],
   "source": [
    "# float converts integers n strings to floating point numbers\n",
    "\n",
    "#float(32)\n",
    "\n",
    "float ('3.24259')"
   ]
  },
  {
   "cell_type": "code",
   "execution_count": 66,
   "metadata": {},
   "outputs": [
    {
     "name": "stdout",
     "output_type": "stream",
     "text": [
      "0.9389201664029562\n",
      "0.1551316588904741\n",
      "0.3381438969189169\n",
      "0.12883045539275162\n",
      "0.417727220424298\n",
      "0.23280105719069089\n",
      "0.005152104764727494\n",
      "0.00480280161851554\n",
      "0.3462299813481432\n",
      "0.2901338976563286\n"
     ]
    }
   ],
   "source": [
    "# Random Numbers\n",
    "\n",
    "import random\n",
    "\n",
    "for i in range(10):\n",
    "    x = random.random()\n",
    "    print(x)"
   ]
  },
  {
   "cell_type": "code",
   "execution_count": 67,
   "metadata": {},
   "outputs": [
    {
     "data": {
      "text/plain": [
       "6"
      ]
     },
     "execution_count": 67,
     "metadata": {},
     "output_type": "execute_result"
    }
   ],
   "source": [
    "# 'randit' function takes the parameters low and high, returns an integer btw low n high (including both)\n",
    "\n",
    "random.randint (5,10)"
   ]
  },
  {
   "cell_type": "code",
   "execution_count": 68,
   "metadata": {},
   "outputs": [
    {
     "data": {
      "text/plain": [
       "3"
      ]
     },
     "execution_count": 68,
     "metadata": {},
     "output_type": "execute_result"
    }
   ],
   "source": [
    "# 'choice' - choose an element from a sequence at random. Random Module also provides functions to generate random\n",
    "# values frm continuous distributions including Gaussian, exponential, gamma, etc.\n",
    "\n",
    "t = [1,2,3]\n",
    "random.choice(t)"
   ]
  },
  {
   "cell_type": "code",
   "execution_count": 69,
   "metadata": {},
   "outputs": [
    {
     "name": "stdout",
     "output_type": "stream",
     "text": [
      "<module 'math' from '/Users/apple/anaconda3/lib/python3.6/lib-dynload/math.cpython-36m-darwin.so'>\n"
     ]
    }
   ],
   "source": [
    "# Math function\n",
    "\n",
    "import math\n",
    "\n",
    "print(math)"
   ]
  },
  {
   "cell_type": "code",
   "execution_count": 70,
   "metadata": {},
   "outputs": [],
   "source": [
    "# Access one of the functions and variables in the math module, specify name of module and name of function. Other trig\n",
    "# functions (cos,tan, etc) takes arg in radians. Convert from degress to radians, divide by 360 and multiply by 2pi.\n",
    "\n",
    "#ratio = signal_power/noise_power\n",
    "#decibels = 10 * math.log10(ratio)\n",
    "\n",
    "#radian = 0.7\n",
    "#height = math.sin(radians)"
   ]
  },
  {
   "cell_type": "code",
   "execution_count": 71,
   "metadata": {},
   "outputs": [
    {
     "data": {
      "text/plain": [
       "0.7071067811865475"
      ]
     },
     "execution_count": 71,
     "metadata": {},
     "output_type": "execute_result"
    }
   ],
   "source": [
    "degrees = 45\n",
    "radians = degrees/360.0 * 2 *math.pi\n",
    "math.sin(radians)\n"
   ]
  },
  {
   "cell_type": "code",
   "execution_count": 72,
   "metadata": {},
   "outputs": [
    {
     "data": {
      "text/plain": [
       "0.7071067811865476"
      ]
     },
     "execution_count": 72,
     "metadata": {},
     "output_type": "execute_result"
    }
   ],
   "source": [
    "math.sqrt(2)/2.0"
   ]
  },
  {
   "cell_type": "code",
   "execution_count": 73,
   "metadata": {},
   "outputs": [],
   "source": [
    "# Adding new functions. Name of the function is 'print_lyrics'. Avoid having a variable ad a function with the\n",
    "# same name.Empty parantheses after the name indicate that this function doesn't take any arg.\n",
    "\n",
    "def print_lyrics():\n",
    "    print('I paint all night and ride all day')\n",
    "    "
   ]
  },
  {
   "cell_type": "code",
   "execution_count": 74,
   "metadata": {},
   "outputs": [
    {
     "name": "stdout",
     "output_type": "stream",
     "text": [
      "<function print_lyrics at 0x109c43488>\n"
     ]
    }
   ],
   "source": [
    "# Defining a function createa a variable with the same name\n",
    "print(print_lyrics)"
   ]
  },
  {
   "cell_type": "code",
   "execution_count": 75,
   "metadata": {},
   "outputs": [
    {
     "name": "stdout",
     "output_type": "stream",
     "text": [
      "<class 'function'>\n"
     ]
    }
   ],
   "source": [
    "print(type(print_lyrics))"
   ]
  },
  {
   "cell_type": "code",
   "execution_count": 76,
   "metadata": {},
   "outputs": [
    {
     "name": "stdout",
     "output_type": "stream",
     "text": [
      "I paint all night and ride all day\n"
     ]
    }
   ],
   "source": [
    "# Syntax for calling the function\n",
    "print_lyrics()"
   ]
  },
  {
   "cell_type": "code",
   "execution_count": 77,
   "metadata": {},
   "outputs": [
    {
     "name": "stdout",
     "output_type": "stream",
     "text": [
      "I paint all night and ride all day\n",
      "I paint all night and ride all day\n"
     ]
    }
   ],
   "source": [
    "# Define a function and use it inside another function.\n",
    "def repeat_lyrics():\n",
    "    print_lyrics()\n",
    "    print_lyrics()\n",
    "    \n",
    "repeat_lyrics()\n"
   ]
  },
  {
   "cell_type": "code",
   "execution_count": 78,
   "metadata": {},
   "outputs": [
    {
     "name": "stdout",
     "output_type": "stream",
     "text": [
      "I paint all night\n",
      "I ride all day\n",
      "I paint all night\n",
      "I ride all day\n"
     ]
    }
   ],
   "source": [
    "# Definitions and uses. Program contains 2 function definitions. Statements inside the functio don;t get executed\n",
    "# until the function is called, and the function definition generates no output. \n",
    "\n",
    "def print_lyrics():\n",
    "    print('I paint all night')\n",
    "    print('I ride all day')\n",
    "    \n",
    "def repeat_lyrics():\n",
    "    print_lyrics()\n",
    "    print_lyrics()\n",
    "    \n",
    "repeat_lyrics()\n"
   ]
  },
  {
   "cell_type": "code",
   "execution_count": 79,
   "metadata": {},
   "outputs": [
    {
     "name": "stdout",
     "output_type": "stream",
     "text": [
      "I paint all night\n",
      "I ride all day\n",
      "I paint all night\n",
      "I ride all day\n"
     ]
    }
   ],
   "source": [
    "\n",
    "def repeat_lyrics():\n",
    "    print_lyrics()\n",
    "    print_lyrics()\n",
    "\n",
    "def print_lyrics():\n",
    "    print('I paint all night')\n",
    "    print('I ride all day')\n",
    "        \n",
    "repeat_lyrics()"
   ]
  },
  {
   "cell_type": "code",
   "execution_count": 80,
   "metadata": {},
   "outputs": [],
   "source": [
    "# Flow of execution\n",
    "\n",
    "# Function definitions don't alter the flow of execution. Statements inside the function are not executed until the\n",
    "# function is called.\n",
    "\n",
    "# Function call is like a detour in the flow of execution. Instead of going to the next statement the flow jumps to\n",
    "# the body of the function excutes all the statements there and then comes back to pick up where it left off.\n",
    "\n",
    "# Note that one function can call another. \n",
    "\n",
    "\n"
   ]
  },
  {
   "cell_type": "code",
   "execution_count": 81,
   "metadata": {},
   "outputs": [
    {
     "data": {
      "text/plain": [
       "<function __main__.print_twice(bruce)>"
      ]
     },
     "execution_count": 81,
     "metadata": {},
     "output_type": "execute_result"
    }
   ],
   "source": [
    "# Parameters and arguments\n",
    "\n",
    "# Inside the function, the arg are assigned to variables called parameters\n",
    "\n",
    "def print_twice(bruce):\n",
    "    print(bruce)\n",
    "    print(bruce)\n",
    "\n",
    "print_twice"
   ]
  },
  {
   "cell_type": "code",
   "execution_count": 82,
   "metadata": {},
   "outputs": [
    {
     "name": "stdout",
     "output_type": "stream",
     "text": [
      "3.141592653589793\n",
      "3.141592653589793\n"
     ]
    }
   ],
   "source": [
    "#print_twice('Spam')\n",
    "\n",
    "import math\n",
    "print_twice(math.pi)\n",
    "\n"
   ]
  },
  {
   "cell_type": "code",
   "execution_count": 83,
   "metadata": {},
   "outputs": [
    {
     "name": "stdout",
     "output_type": "stream",
     "text": [
      "-1.0\n",
      "-1.0\n"
     ]
    }
   ],
   "source": [
    "# The arg is evaluated b4 the function is called.\n",
    "\n",
    "#print_twice('spam ' * 4)\n",
    "\n",
    "print_twice(math.cos(math.pi))"
   ]
  },
  {
   "cell_type": "code",
   "execution_count": 84,
   "metadata": {},
   "outputs": [
    {
     "name": "stdout",
     "output_type": "stream",
     "text": [
      "Ming, the special\n",
      "Ming, the special\n"
     ]
    }
   ],
   "source": [
    "# Variable as an arg.\n",
    "\n",
    "m = 'Ming, the special'\n",
    "print_twice(m)"
   ]
  },
  {
   "cell_type": "code",
   "execution_count": 85,
   "metadata": {},
   "outputs": [
    {
     "data": {
      "text/plain": [
       "0.7071067811865476"
      ]
     },
     "execution_count": 85,
     "metadata": {},
     "output_type": "execute_result"
    }
   ],
   "source": [
    "# Fruitful functions and Void functions\n",
    "\n",
    "# Eg. Math functions yield results - fruitful. 'print_twice' performs an action but don't return a value - Void\n",
    "\n",
    "x = math.cos(radians)\n",
    "\n",
    "x\n"
   ]
  },
  {
   "cell_type": "code",
   "execution_count": 86,
   "metadata": {},
   "outputs": [
    {
     "data": {
      "text/plain": [
       "1.618033988749895"
      ]
     },
     "execution_count": 86,
     "metadata": {},
     "output_type": "execute_result"
    }
   ],
   "source": [
    "golden = (math.sqrt(5) + 1)/2\n",
    "\n",
    "golden"
   ]
  },
  {
   "cell_type": "code",
   "execution_count": 87,
   "metadata": {},
   "outputs": [
    {
     "data": {
      "text/plain": [
       "2.23606797749979"
      ]
     },
     "execution_count": 87,
     "metadata": {},
     "output_type": "execute_result"
    }
   ],
   "source": [
    "# In interactive mode. Script computes the square root of 5. It doesn't store the result in a variable\n",
    "\n",
    "math.sqrt(5)"
   ]
  },
  {
   "cell_type": "code",
   "execution_count": 88,
   "metadata": {},
   "outputs": [
    {
     "name": "stdout",
     "output_type": "stream",
     "text": [
      "Ming\n",
      "Ming\n",
      "None\n"
     ]
    }
   ],
   "source": [
    "# Void function - no return value\n",
    "result = print_twice('Ming')\n",
    "\n",
    "print(result)\n"
   ]
  },
  {
   "cell_type": "code",
   "execution_count": 89,
   "metadata": {},
   "outputs": [
    {
     "name": "stdout",
     "output_type": "stream",
     "text": [
      "8\n"
     ]
    }
   ],
   "source": [
    "# Return a result from a function, use 'return' in the function. Within the function, the para a and b were 3 and 5 \n",
    "# respectively. function computes the sum of the 2 numbers n placed it in variable 'added'. Then, the return statement\n",
    "# send the computed # back to the calling code as the function result. that was assigned to the var 'x'.\n",
    "\n",
    "def addtwo(a,b):\n",
    "    added = a + b\n",
    "    return added\n",
    "\n",
    "x = addtwo(3,5)\n",
    "print(x)\n",
    "\n"
   ]
  },
  {
   "cell_type": "code",
   "execution_count": 90,
   "metadata": {},
   "outputs": [
    {
     "data": {
      "text/plain": [
       "1"
      ]
     },
     "execution_count": 90,
     "metadata": {},
     "output_type": "execute_result"
    }
   ],
   "source": [
    "# Iteration\n",
    "\n",
    "# Updating Variables- B4 updating a var, need to initialize it.\n",
    "\n",
    "x = 0\n",
    "x + x + 1"
   ]
  },
  {
   "cell_type": "code",
   "execution_count": 91,
   "metadata": {},
   "outputs": [
    {
     "name": "stdout",
     "output_type": "stream",
     "text": [
      "5\n",
      "4\n",
      "3\n",
      "2\n",
      "Blastoff\n"
     ]
    }
   ],
   "source": [
    "# while statement\n",
    "\n",
    "# the flow of execution: 1) valuate the condition; true or false 2) If false, exit the while statement and continue\n",
    "# excution at the next statement 3) if true, execute the body n go back to step 1\n",
    "\n",
    "# This type of excution is a loop, The 3rd step loops back around to the top\n",
    "\n",
    "n = 5\n",
    "while n > 1:\n",
    "    print(n)\n",
    "    n = n -1\n",
    "print('Blastoff')"
   ]
  },
  {
   "cell_type": "code",
   "execution_count": 92,
   "metadata": {},
   "outputs": [],
   "source": [
    "# Infinite loops\n",
    "\n",
    "# Infinite loops n break\n",
    "\n",
    "# can write an infinite loop n use 'break' to jump out of the loop\n",
    "\n",
    "# Take input from user until user type 'done'. The loop reuns repeatedly until it hits the break statement/\n",
    "\n",
    "# while True:\n",
    "      #line = input('> ')\n",
    "      #if line == 'done':\n",
    "        #break\n",
    "      #print(line)\n",
    "#print('Done')\n",
    "      "
   ]
  },
  {
   "cell_type": "code",
   "execution_count": 93,
   "metadata": {},
   "outputs": [],
   "source": [
    "# Finishing iterations with 'continue'\n",
    "\n",
    "# A loop that copies its inputs until the user types 'done'. Treat lines that start with hash as lines not to print\n",
    "\n",
    "#while True:\n",
    "    #line = input('> ')\n",
    "    #if line [0] == '#':\n",
    "        #continue\n",
    "    #if line == 'done':\n",
    "        #break\n",
    "    #print(line)\n",
    "#print('Done')"
   ]
  },
  {
   "cell_type": "code",
   "execution_count": 94,
   "metadata": {},
   "outputs": [
    {
     "name": "stdout",
     "output_type": "stream",
     "text": [
      "Hi Dude: Joe\n",
      "Hi Dude: Mike\n",
      "Hi Dude: Steve\n",
      "Done\n"
     ]
    }
   ],
   "source": [
    "# Definite loops using for\n",
    "\n",
    "# 'for loop' is looping thru a known set of items; runs theu as many iteratios as there are items in the set\n",
    "# 'while statement' is an idefinite loop because it loops until some conditions become False.\n",
    "\n",
    "# 'friend' is the iteration var for the 'for\" loop. the var 'friend' changes for each iteration of the loop and\n",
    "# controls when the 'for' loop completes. The iteration var steps successively thru the 3 strings stored in the\n",
    "#'friends' variable.\n",
    "\n",
    "friends = ['Joe', 'Mike', 'Steve']\n",
    "for friend in friends:\n",
    "    print('Hi Dude:', friend)\n",
    "print('Done')\n"
   ]
  },
  {
   "cell_type": "code",
   "execution_count": 95,
   "metadata": {},
   "outputs": [
    {
     "name": "stdout",
     "output_type": "stream",
     "text": [
      "Count:   6\n"
     ]
    }
   ],
   "source": [
    "# Counting & Summing loops\n",
    "\n",
    "# counting the # of items in a list. Set the var count to zero. Iteration variable is itervar - it controls the loop\n",
    "# n cause the loop body to be executed once for each value in the list. Body of the lopp add 1 to the current value of\n",
    "# count for each value in the list. while the loop is executing, the value of the count is the number of values seen\n",
    "# so far. \n",
    "\n",
    "# In practice, Python has built in functions len() and sum() that computes # of items n total of items in lists.\n",
    "\n",
    "count = 0\n",
    "for itervar in [3,41,12,9,74,26]:\n",
    "    count = count +1\n",
    "print('Count:  ', count)"
   ]
  },
  {
   "cell_type": "code",
   "execution_count": 96,
   "metadata": {},
   "outputs": [
    {
     "ename": "NameError",
     "evalue": "name 'iterval' is not defined",
     "output_type": "error",
     "traceback": [
      "\u001b[0;31m---------------------------------------------------------------------------\u001b[0m",
      "\u001b[0;31mNameError\u001b[0m                                 Traceback (most recent call last)",
      "\u001b[0;32m<ipython-input-96-6e535b6dac79>\u001b[0m in \u001b[0;36m<module>\u001b[0;34m\u001b[0m\n\u001b[1;32m      5\u001b[0m \u001b[0mtotal\u001b[0m \u001b[0;34m=\u001b[0m \u001b[0;36m0\u001b[0m\u001b[0;34m\u001b[0m\u001b[0;34m\u001b[0m\u001b[0m\n\u001b[1;32m      6\u001b[0m \u001b[0;32mfor\u001b[0m \u001b[0mitervar\u001b[0m \u001b[0;32min\u001b[0m \u001b[0;34m[\u001b[0m\u001b[0;36m3\u001b[0m\u001b[0;34m,\u001b[0m\u001b[0;36m41\u001b[0m\u001b[0;34m,\u001b[0m\u001b[0;36m12\u001b[0m\u001b[0;34m,\u001b[0m\u001b[0;36m9\u001b[0m\u001b[0;34m,\u001b[0m\u001b[0;36m74\u001b[0m\u001b[0;34m,\u001b[0m\u001b[0;36m26\u001b[0m\u001b[0;34m]\u001b[0m\u001b[0;34m:\u001b[0m\u001b[0;34m\u001b[0m\u001b[0;34m\u001b[0m\u001b[0m\n\u001b[0;32m----> 7\u001b[0;31m     \u001b[0mtotal\u001b[0m \u001b[0;34m=\u001b[0m \u001b[0mtotal\u001b[0m \u001b[0;34m+\u001b[0m \u001b[0miterval\u001b[0m\u001b[0;34m\u001b[0m\u001b[0;34m\u001b[0m\u001b[0m\n\u001b[0m\u001b[1;32m      8\u001b[0m \u001b[0mprint\u001b[0m\u001b[0;34m(\u001b[0m\u001b[0;34m'Total: '\u001b[0m\u001b[0;34m,\u001b[0m \u001b[0mtotal\u001b[0m\u001b[0;34m)\u001b[0m\u001b[0;34m\u001b[0m\u001b[0;34m\u001b[0m\u001b[0m\n",
      "\u001b[0;31mNameError\u001b[0m: name 'iterval' is not defined"
     ]
    }
   ],
   "source": [
    "# In this loop, the iteration var is used. Add the actual number [3,41,etc] to the running total during each loop\n",
    "# iteration. B4 loop starts total is zero, at the end of the loop total is overall total of all the values in the list\n",
    "# an Accumulator is such a var.\n",
    "\n",
    "total = 0\n",
    "for itervar in [3,41,12,9,74,26]:\n",
    "    total = total + iterval\n",
    "print('Total: ', total)"
   ]
  },
  {
   "cell_type": "code",
   "execution_count": 97,
   "metadata": {},
   "outputs": [
    {
     "name": "stdout",
     "output_type": "stream",
     "text": [
      "Before: None\n",
      "Loop: 3 3\n",
      "Loop: 41 41\n",
      "Loop: 12 41\n",
      "Loop: 9 41\n",
      "Loop: 74 74\n",
      "Loop: 26 74\n",
      "Largest: 74\n"
     ]
    }
   ],
   "source": [
    "# Max n Min loops\n",
    "\n",
    "# find the largest value in a list or sequence\n",
    "\n",
    "# Var 'largest' is best hought of as the largest value seen so far. None is a special constant value which we can\n",
    "# store in a var to mark the var as empty. After the first iteration, the largest is no longer None, so the second \n",
    "# part of the compound logical expression that checks interval > largest triggers only when a value that is larger \n",
    "# than the largest so far.\n",
    "\n",
    "# In practice, Python has built in functions max() and min()\n",
    "\n",
    "largest = None\n",
    "print('Before:', largest)\n",
    "for iterval in [3,41,12,9,74,26]:\n",
    "    if largest is None or iterval > largest:\n",
    "        largest = iterval\n",
    "    print('Loop:', iterval, largest)\n",
    "print('Largest:', largest)\n",
    "\n"
   ]
  },
  {
   "cell_type": "code",
   "execution_count": 98,
   "metadata": {},
   "outputs": [],
   "source": [
    "# Python built in min() function\n",
    "\n",
    "def min(values):\n",
    "    smallest = None\n",
    "    for value in values:\n",
    "        if smallest is None or value < smallest:\n",
    "            smallest =value\n",
    "    return smallest\n"
   ]
  },
  {
   "cell_type": "code",
   "execution_count": 99,
   "metadata": {},
   "outputs": [
    {
     "name": "stdout",
     "output_type": "stream",
     "text": [
      "a\n"
     ]
    }
   ],
   "source": [
    "# Strings - a sequence of characters\n",
    "\n",
    "# extract the character at index position1 from the fruit var n assigns it to the letter var. Note the beginning\n",
    "# of the string is zero. the value of the index has to be an integer\n",
    "\n",
    "fruit = 'banana'\n",
    "letter = fruit[1]\n",
    "print(letter)\n",
    "\n"
   ]
  },
  {
   "cell_type": "code",
   "execution_count": 100,
   "metadata": {},
   "outputs": [
    {
     "data": {
      "text/plain": [
       "6"
      ]
     },
     "execution_count": 100,
     "metadata": {},
     "output_type": "execute_result"
    }
   ],
   "source": [
    "# using len\n",
    "\n",
    "fruit = 'banana'\n",
    "len(fruit)"
   ]
  },
  {
   "cell_type": "code",
   "execution_count": 101,
   "metadata": {},
   "outputs": [
    {
     "name": "stdout",
     "output_type": "stream",
     "text": [
      "a\n"
     ]
    }
   ],
   "source": [
    "# Use negative indices\n",
    "\n",
    "fruit = 'banana'\n",
    "length = len(fruit)\n",
    "last = fruit [length-1]\n",
    "print(last)"
   ]
  },
  {
   "cell_type": "code",
   "execution_count": 102,
   "metadata": {},
   "outputs": [
    {
     "name": "stdout",
     "output_type": "stream",
     "text": [
      "b\n",
      "a\n",
      "n\n",
      "a\n",
      "n\n",
      "a\n"
     ]
    }
   ],
   "source": [
    "# Traversal thru a string with a loop\n",
    "\n",
    "# traversal with a while loop. This loop traverses the string and displays each letter on a line by itself.\n",
    "# the loop condition is index < len(fruit), so when index is equal to the length of the string, the condition\n",
    "# is false. the last character accessed is index len(fruit) -1. \n",
    "\n",
    "fruit = 'banana'\n",
    "index = 0\n",
    "while index < len(fruit):\n",
    "    letter = fruit[index]\n",
    "    print(letter)\n",
    "    index = index + 1\n"
   ]
  },
  {
   "cell_type": "code",
   "execution_count": 103,
   "metadata": {},
   "outputs": [
    {
     "name": "stdout",
     "output_type": "stream",
     "text": [
      "b\n",
      "a\n",
      "n\n",
      "a\n",
      "n\n",
      "a\n"
     ]
    }
   ],
   "source": [
    "# Using for loop\n",
    "fruit = 'banana'\n",
    "for char in fruit:\n",
    "    print(char)"
   ]
  },
  {
   "cell_type": "code",
   "execution_count": 104,
   "metadata": {},
   "outputs": [
    {
     "name": "stdout",
     "output_type": "stream",
     "text": [
      "Python\n"
     ]
    }
   ],
   "source": [
    "# string slices\n",
    "\n",
    "# operator returns the part of the string, including the first character but excluding the last\n",
    "\n",
    " s = 'Monty Python'\n",
    " #print(s[0:5])\n",
    " print(s[6:12])\n"
   ]
  },
  {
   "cell_type": "code",
   "execution_count": 105,
   "metadata": {},
   "outputs": [
    {
     "data": {
      "text/plain": [
       "'ana'"
      ]
     },
     "execution_count": 105,
     "metadata": {},
     "output_type": "execute_result"
    }
   ],
   "source": [
    "# string slices. Omit the first index (b4 colon), slice start at the beg of the string. Omit the second index, the\n",
    "# slice goes to the end of the string/\n",
    "\n",
    "fruit = 'banana'\n",
    "#fruit[:3]\n",
    "fruit[3:]"
   ]
  },
  {
   "cell_type": "code",
   "execution_count": 106,
   "metadata": {},
   "outputs": [
    {
     "name": "stdout",
     "output_type": "stream",
     "text": [
      "Mi, Dude\n"
     ]
    }
   ],
   "source": [
    "# String are immutable - you can't change an existing string\n",
    "\n",
    "# Create a new string that is a variation \n",
    "\n",
    "# Concantenates a new first letter on a slice of greeting.\n",
    "\n",
    "greeting = 'Hi, Dude'\n",
    "new_greeting = 'M' + greeting[1:]\n",
    "print(new_greeting)\n"
   ]
  },
  {
   "cell_type": "code",
   "execution_count": 107,
   "metadata": {},
   "outputs": [
    {
     "name": "stdout",
     "output_type": "stream",
     "text": [
      "3\n"
     ]
    }
   ],
   "source": [
    "# Looping & Counting\n",
    "\n",
    "# Counts the number of times the letter 'a' appear.\n",
    "\n",
    "word = 'banana'\n",
    "count = 0\n",
    "for letter in word:\n",
    "    if letter == 'a':\n",
    "        count = count + 1\n",
    "print(count)"
   ]
  },
  {
   "cell_type": "code",
   "execution_count": 108,
   "metadata": {},
   "outputs": [
    {
     "data": {
      "text/plain": [
       "False"
      ]
     },
     "execution_count": 108,
     "metadata": {},
     "output_type": "execute_result"
    }
   ],
   "source": [
    "# 'in' operator is a boolean operator. Takes 2 strings and returns True if the first appears as a substring \n",
    "# in the second\n",
    "\n",
    "#a in 'banana' \n",
    "\n",
    "'juice' in 'banana'\n"
   ]
  },
  {
   "cell_type": "code",
   "execution_count": 109,
   "metadata": {},
   "outputs": [
    {
     "name": "stdout",
     "output_type": "stream",
     "text": [
      "Alright!\n"
     ]
    }
   ],
   "source": [
    "# String Comparison\n",
    "\n",
    "word = 'banana'\n",
    "if word == 'banana':\n",
    "    print('Alright!')\n",
    "\n",
    "\n"
   ]
  },
  {
   "cell_type": "code",
   "execution_count": 110,
   "metadata": {},
   "outputs": [
    {
     "name": "stdout",
     "output_type": "stream",
     "text": [
      "Your word,Peach, comes b4 banana\n"
     ]
    }
   ],
   "source": [
    "# Comparison Operators useful for putting words in alpha order \n",
    "\n",
    "word = 'Peach'\n",
    "if word < 'banana':\n",
    "    print('Your word,' + word + ', comes b4 banana')\n",
    "elif word > 'banana':\n",
    "    print ('Your word,' + word + ', comes after banana')\n",
    "else:\n",
    "    print('Alright')"
   ]
  },
  {
   "cell_type": "code",
   "execution_count": 111,
   "metadata": {},
   "outputs": [
    {
     "data": {
      "text/plain": [
       "str"
      ]
     },
     "execution_count": 111,
     "metadata": {},
     "output_type": "execute_result"
    }
   ],
   "source": [
    "# Strings are examples pf Python objects. an object contains both data(the string) and methods i.e. functions built\n",
    "# into the object\n",
    "\n",
    "# the function 'dir' list the mehods available for an object. 'type function shows the type of object; the 'dir'\n",
    "# function shows the available methods\n",
    "\n",
    "stuff = 'Hi Ming'\n",
    "type (stuff)\n"
   ]
  },
  {
   "cell_type": "code",
   "execution_count": 112,
   "metadata": {},
   "outputs": [],
   "source": [
    "# Calling a method is like calling a function (takes an arg and returns a value) but the syntax is different\n",
    "\n",
    "#dir(stuff)"
   ]
  },
  {
   "cell_type": "code",
   "execution_count": 113,
   "metadata": {},
   "outputs": [
    {
     "name": "stdout",
     "output_type": "stream",
     "text": [
      "Help on method_descriptor:\n",
      "\n",
      "capitalize(...)\n",
      "    S.capitalize() -> str\n",
      "    \n",
      "    Return a capitalized version of S, i.e. make the first character\n",
      "    have upper case and the rest lower case.\n",
      "\n"
     ]
    }
   ],
   "source": [
    "help(str.capitalize)"
   ]
  },
  {
   "cell_type": "code",
   "execution_count": 114,
   "metadata": {},
   "outputs": [
    {
     "name": "stdout",
     "output_type": "stream",
     "text": [
      "BANANA\n"
     ]
    }
   ],
   "source": [
    "# invocation - invoking upper on the word\n",
    "\n",
    "word = 'banana'\n",
    "new_word = word.upper()\n",
    "print(new_word)"
   ]
  },
  {
   "cell_type": "code",
   "execution_count": 115,
   "metadata": {},
   "outputs": [
    {
     "name": "stdout",
     "output_type": "stream",
     "text": [
      "1\n"
     ]
    }
   ],
   "source": [
    "# string method 'find'\n",
    "\n",
    "word = 'banana'\n",
    "index = word.find('a')\n",
    "print(index)"
   ]
  },
  {
   "cell_type": "code",
   "execution_count": 116,
   "metadata": {},
   "outputs": [
    {
     "name": "stdout",
     "output_type": "stream",
     "text": [
      "2\n"
     ]
    }
   ],
   "source": [
    "# string method - find substrings\n",
    "\n",
    "word = 'banana'\n",
    "index = word.find('na')\n",
    "print(index)"
   ]
  },
  {
   "cell_type": "code",
   "execution_count": 117,
   "metadata": {},
   "outputs": [
    {
     "name": "stdout",
     "output_type": "stream",
     "text": [
      "4\n"
     ]
    }
   ],
   "source": [
    "# string method takes as a second arg the index where it should start\n",
    "\n",
    "word = 'banana'\n",
    "index = word.find('na', 3)\n",
    "print(index)\n"
   ]
  },
  {
   "cell_type": "code",
   "execution_count": 118,
   "metadata": {},
   "outputs": [
    {
     "data": {
      "text/plain": [
       "'here we paint'"
      ]
     },
     "execution_count": 118,
     "metadata": {},
     "output_type": "execute_result"
    }
   ],
   "source": [
    "# remove white space\n",
    "\n",
    "line = '   here we paint   '\n",
    "line.strip()"
   ]
  },
  {
   "cell_type": "code",
   "execution_count": 119,
   "metadata": {},
   "outputs": [
    {
     "data": {
      "text/plain": [
       "False"
      ]
     },
     "execution_count": 119,
     "metadata": {},
     "output_type": "execute_result"
    }
   ],
   "source": [
    "# startswith  required matching cases\n",
    "\n",
    "line = 'Have a ride'\n",
    "#line.startswith('Have')\n",
    "line.startswith('have')"
   ]
  },
  {
   "cell_type": "code",
   "execution_count": 120,
   "metadata": {},
   "outputs": [
    {
     "data": {
      "text/plain": [
       "True"
      ]
     },
     "execution_count": 120,
     "metadata": {},
     "output_type": "execute_result"
    }
   ],
   "source": [
    "# method lower is called then use startswith\n",
    "\n",
    "line = 'Have a ride'\n",
    "#line.lower()\n",
    "line.lower().startswith('h')\n"
   ]
  },
  {
   "cell_type": "code",
   "execution_count": 121,
   "metadata": {},
   "outputs": [
    {
     "name": "stdout",
     "output_type": "stream",
     "text": [
      "19\n",
      "29\n",
      "uct.ac.za\n"
     ]
    }
   ],
   "source": [
    "# Parsing strings\n",
    "\n",
    "# Find the position of the @ sign; Then find the postion of the fist space after the @ sign\n",
    "# Slice - extract the characters from one beyond the @ sign thru up to but not including the space character\n",
    "\n",
    "data = 'From steve.macqueen@uct.ac.za Sat Jan 20 09:14:16:2008'\n",
    "atpos = data.find('@')\n",
    "print(atpos)\n",
    "\n",
    "sppos = data.find(' ', atpos)\n",
    "print(sppos)\n",
    "\n",
    "host = data[atpos+1:sppos]\n",
    "print(host)"
   ]
  },
  {
   "cell_type": "code",
   "execution_count": 122,
   "metadata": {},
   "outputs": [
    {
     "data": {
      "text/plain": [
       "'42'"
      ]
     },
     "execution_count": 122,
     "metadata": {},
     "output_type": "execute_result"
    }
   ],
   "source": [
    "# Format Operator - %\n",
    "\n",
    "# the %d means that the second operand should be formatted as an integer.( d = decimal)\n",
    "# Result is the string '42', not to be confused with the integer value 42\n",
    "\n",
    "camels = 42\n",
    "'%d' % camels\n",
    "\n"
   ]
  },
  {
   "cell_type": "code",
   "execution_count": 123,
   "metadata": {},
   "outputs": [
    {
     "data": {
      "text/plain": [
       "'I viewed 3 camels'"
      ]
     },
     "execution_count": 123,
     "metadata": {},
     "output_type": "execute_result"
    }
   ],
   "source": [
    "# A format sequence can appear anywhere in a string; can embed a value in a sentence\n",
    "camels = 3\n",
    "'I viewed %d camels' % camels\n"
   ]
  },
  {
   "cell_type": "code",
   "execution_count": 124,
   "metadata": {},
   "outputs": [
    {
     "data": {
      "text/plain": [
       "'In 3 months I viewed 0.6 camels.'"
      ]
     },
     "execution_count": 124,
     "metadata": {},
     "output_type": "execute_result"
    }
   ],
   "source": [
    "# if more than one format sequence in the string, the second arg has to be tuple. Each format sequence is matched \n",
    "# with an element of the tuple. (%d-format an integer), (%g-format a gloating point), (%s-format a string)\n",
    "\n",
    "'In %d months I viewed %g %s.' %(3, 0.6, 'camels')"
   ]
  },
  {
   "cell_type": "code",
   "execution_count": null,
   "metadata": {},
   "outputs": [],
   "source": []
  }
 ],
 "metadata": {
  "kernelspec": {
   "display_name": "Python 3",
   "language": "python",
   "name": "python3"
  },
  "language_info": {
   "codemirror_mode": {
    "name": "ipython",
    "version": 3
   },
   "file_extension": ".py",
   "mimetype": "text/x-python",
   "name": "python",
   "nbconvert_exporter": "python",
   "pygments_lexer": "ipython3",
   "version": "3.7.6"
  }
 },
 "nbformat": 4,
 "nbformat_minor": 2
}
