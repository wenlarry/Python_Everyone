{
  "nbformat": 4,
  "nbformat_minor": 0,
  "metadata": {
    "kernelspec": {
      "display_name": "Python 3",
      "language": "python",
      "name": "python3"
    },
    "language_info": {
      "codemirror_mode": {
        "name": "ipython",
        "version": 3
      },
      "file_extension": ".py",
      "mimetype": "text/x-python",
      "name": "python",
      "nbconvert_exporter": "python",
      "pygments_lexer": "ipython3",
      "version": "3.7.6"
    },
    "colab": {
      "name": "Python_Everyone_Pt 3.ipynb",
      "provenance": [],
      "include_colab_link": true
    }
  },
  "cells": [
    {
      "cell_type": "markdown",
      "metadata": {
        "id": "view-in-github",
        "colab_type": "text"
      },
      "source": [
        "<a href=\"https://colab.research.google.com/github/wenlarry/Python_Everyone/blob/master/Python_Everyone_Pt_3.ipynb\" target=\"_parent\"><img src=\"https://colab.research.google.com/assets/colab-badge.svg\" alt=\"Open In Colab\"/></a>"
      ]
    },
    {
      "cell_type": "code",
      "metadata": {
        "id": "v80UvXYD8dQc",
        "colab_type": "code",
        "colab": {
          "base_uri": "https://localhost:8080/",
          "height": 306
        },
        "outputId": "33b7d0a3-723d-44e6-c0b0-266f717c6ff1"
      },
      "source": [
        "# Networked programs\n",
        "\n",
        "# Python built in support called sockets to make network connections. A socket is like a file. A single socket\n",
        "# provides a 2 way connections btw 2 programs. Can both read from n write to the same socket\n",
        "\n",
        "# the program makes a connection to port 80 on the server www.py4e.com.\n",
        "# the program is in the role of a web browser, the HTTP protocol send the GET command. \n",
        "# \\r\\n\\ signifies an EOL, so \\r\\n\\r\\n means nothing btw 3 EOLs\n",
        "# Once sent, write a loop that receives data in 512 character chunks from the socket and prints the data \n",
        "# recv() returns an empty string i.e. no more data to read.\n",
        "\n",
        "# Just to find the dox which describes the protocol n write the code to send/receive the data according to\n",
        "# the protocol.\n",
        "\n",
        "# Using the common HTTP web protocol. One of the requirements fro using HTTP protocol is the need to send and receive\n",
        "# as bytes, objects, instead of strings. the encode() and decode() methods convert strings into bytes objects n\n",
        "# back again\n",
        "\n",
        "\n",
        "import socket\n",
        "\n",
        "mysock = socket.socket(socket.AF_INET, socket.SOCK_STREAM)\n",
        "mysock.connect(('data.pr4e.org', 80))\n",
        "cmd = 'GET http://data.pr4e.org/romeo.txt HTTP/1.0\\r\\n\\r\\n'.encode()\n",
        "mysock.send(cmd)\n",
        "\n",
        "while True:\n",
        "    data = mysock.recv(512)\n",
        "    if len(data) < 1:\n",
        "        break\n",
        "    print(data.decode(), end='')\n",
        "    \n",
        "mysock.close()\n",
        "    \n",
        "    \n"
      ],
      "execution_count": 1,
      "outputs": [
        {
          "output_type": "stream",
          "text": [
            "HTTP/1.1 200 OK\r\n",
            "Date: Thu, 27 Aug 2020 03:24:40 GMT\r\n",
            "Server: Apache/2.4.18 (Ubuntu)\r\n",
            "Last-Modified: Sat, 13 May 2017 11:22:22 GMT\r\n",
            "ETag: \"a7-54f6609245537\"\r\n",
            "Accept-Ranges: bytes\r\n",
            "Content-Length: 167\r\n",
            "Cache-Control: max-age=0, no-cache, no-store, must-revalidate\r\n",
            "Pragma: no-cache\r\n",
            "Expires: Wed, 11 Jan 1984 05:00:00 GMT\r\n",
            "Connection: close\r\n",
            "Content-Type: text/plain\r\n",
            "\r\n",
            "But soft what light through yonder window breaks\n",
            "It is the east and Juliet is the sun\n",
            "Arise fair sun and kill the envious moon\n",
            "Who is already sick and pale with grief\n"
          ],
          "name": "stdout"
        }
      ]
    },
    {
      "cell_type": "code",
      "metadata": {
        "id": "H9DxOIxr8dQi",
        "colab_type": "code",
        "colab": {
          "base_uri": "https://localhost:8080/",
          "height": 34
        },
        "outputId": "61af33fa-2283-457b-f023-c33ea8fb91c3"
      },
      "source": [
        "# Use b'' notation to specify that a var should be stored as a bytes object. encode() and b' are equivalent\n",
        "\n",
        "b'Hi World'\n",
        "'Hi World'.encode()"
      ],
      "execution_count": 2,
      "outputs": [
        {
          "output_type": "execute_result",
          "data": {
            "text/plain": [
              "b'Hi World'"
            ]
          },
          "metadata": {
            "tags": []
          },
          "execution_count": 2
        }
      ]
    },
    {
      "cell_type": "code",
      "metadata": {
        "id": "3d_3HgRc8dQl",
        "colab_type": "code",
        "colab": {
          "base_uri": "https://localhost:8080/",
          "height": 816
        },
        "outputId": "304a70dc-9a6f-468d-8a0f-61a476b220f6"
      },
      "source": [
        "# Retrieving an image over HTTP\n",
        "\n",
        "# Once the program completes, can view the image data by opening the file stuff.jpg in an image viewer\n",
        "# Can slow down euccessive recv() calls by uncommenting the call to time.sleep()\n",
        "# Paisong of either the send or the receiving appications is 'flow control'\n",
        "\n",
        "import socket\n",
        "import time\n",
        "\n",
        "HOST = 'data.pr4e.org'\n",
        "PORT = 80\n",
        "mysock = socket.socket(socket.AF_INET, socket.SOCK_STREAM)\n",
        "mysock.connect((HOST, PORT))\n",
        "mysock.sendall(b'GET http://data.pr4e.org/cover3.jpg HTTP/1.0\\r\\n\\r\\n')\n",
        "count = 0\n",
        "picture = b\"\"\n",
        "\n",
        "while True:\n",
        "    data = mysock.recv(5120)\n",
        "    if len(data) < 1: break\n",
        "    #time = sleep(0.25)\n",
        "    count = count + len(data)\n",
        "    print(len(data), count)\n",
        "    picture = picture + data\n",
        "    \n",
        "mysock.close()\n"
      ],
      "execution_count": 3,
      "outputs": [
        {
          "output_type": "stream",
          "text": [
            "5120 5120\n",
            "5120 10240\n",
            "4240 14480\n",
            "5120 19600\n",
            "5120 24720\n",
            "5120 29840\n",
            "5120 34960\n",
            "5120 40080\n",
            "3360 43440\n",
            "5120 48560\n",
            "5120 53680\n",
            "5120 58800\n",
            "5120 63920\n",
            "5120 69040\n",
            "5120 74160\n",
            "5120 79280\n",
            "5120 84400\n",
            "5120 89520\n",
            "3152 92672\n",
            "5120 97792\n",
            "5120 102912\n",
            "5120 108032\n",
            "5120 113152\n",
            "5120 118272\n",
            "5120 123392\n",
            "5120 128512\n",
            "5120 133632\n",
            "5120 138752\n",
            "5120 143872\n",
            "5120 148992\n",
            "5120 154112\n",
            "5120 159232\n",
            "5120 164352\n",
            "5120 169472\n",
            "5120 174592\n",
            "5120 179712\n",
            "5120 184832\n",
            "5120 189952\n",
            "5120 195072\n",
            "4752 199824\n",
            "5120 204944\n",
            "5120 210064\n",
            "5120 215184\n",
            "5120 220304\n",
            "5120 225424\n",
            "5120 230544\n",
            "64 230608\n"
          ],
          "name": "stdout"
        }
      ]
    },
    {
      "cell_type": "code",
      "metadata": {
        "id": "SnzGMhZp8dQo",
        "colab_type": "code",
        "colab": {
          "base_uri": "https://localhost:8080/",
          "height": 1000
        },
        "outputId": "2c60295a-3502-47f7-8b76-f2de335bf276"
      },
      "source": [
        "# Look for the end of the header (2 CHLF)\n",
        "import socket\n",
        "import time\n",
        "\n",
        "HOST = 'data.pr4e.org'\n",
        "PORT = 80\n",
        "mysock = socket.socket(socket.AF_INET, socket.SOCK_STREAM)\n",
        "mysock.connect((HOST, PORT))\n",
        "mysock.sendall(b'GET http://data.pr4e.org/cover3.jpg HTTP/1.0\\r\\n\\r\\n')\n",
        "count = 0\n",
        "picture = b\"\"\n",
        "\n",
        "while True:\n",
        "    data = mysock.recv(5120)\n",
        "    if len(data) < 1: break\n",
        "    #time = sleep(0.25)\n",
        "    count = count + len(data)\n",
        "    pos = picture.find(b\"\\r\\n\\r\\n\")\n",
        "    print('Header length', pos)\n",
        "    print(picture[:pos].decode())\n",
        "    \n",
        "mysock.close()"
      ],
      "execution_count": 4,
      "outputs": [
        {
          "output_type": "stream",
          "text": [
            "Header length -1\n",
            "\n",
            "Header length -1\n",
            "\n",
            "Header length -1\n",
            "\n",
            "Header length -1\n",
            "\n",
            "Header length -1\n",
            "\n",
            "Header length -1\n",
            "\n",
            "Header length -1\n",
            "\n",
            "Header length -1\n",
            "\n",
            "Header length -1\n",
            "\n",
            "Header length -1\n",
            "\n",
            "Header length -1\n",
            "\n",
            "Header length -1\n",
            "\n",
            "Header length -1\n",
            "\n",
            "Header length -1\n",
            "\n",
            "Header length -1\n",
            "\n",
            "Header length -1\n",
            "\n",
            "Header length -1\n",
            "\n",
            "Header length -1\n",
            "\n",
            "Header length -1\n",
            "\n",
            "Header length -1\n",
            "\n",
            "Header length -1\n",
            "\n",
            "Header length -1\n",
            "\n",
            "Header length -1\n",
            "\n",
            "Header length -1\n",
            "\n",
            "Header length -1\n",
            "\n",
            "Header length -1\n",
            "\n",
            "Header length -1\n",
            "\n",
            "Header length -1\n",
            "\n",
            "Header length -1\n",
            "\n",
            "Header length -1\n",
            "\n",
            "Header length -1\n",
            "\n",
            "Header length -1\n",
            "\n",
            "Header length -1\n",
            "\n",
            "Header length -1\n",
            "\n",
            "Header length -1\n",
            "\n",
            "Header length -1\n",
            "\n",
            "Header length -1\n",
            "\n",
            "Header length -1\n",
            "\n",
            "Header length -1\n",
            "\n",
            "Header length -1\n",
            "\n",
            "Header length -1\n",
            "\n",
            "Header length -1\n",
            "\n",
            "Header length -1\n",
            "\n",
            "Header length -1\n",
            "\n",
            "Header length -1\n",
            "\n",
            "Header length -1\n",
            "\n",
            "Header length -1\n",
            "\n"
          ],
          "name": "stdout"
        }
      ]
    },
    {
      "cell_type": "code",
      "metadata": {
        "id": "mYKXw__08dQr",
        "colab_type": "code",
        "colab": {
          "base_uri": "https://localhost:8080/",
          "height": 816
        },
        "outputId": "f39fc2a8-f823-401e-928f-c14752dd6f1c"
      },
      "source": [
        "# skip past the data n save the picture data\n",
        "import socket\n",
        "import time\n",
        "\n",
        "HOST = 'data.pr4e.org'\n",
        "PORT = 80\n",
        "mysock = socket.socket(socket.AF_INET, socket.SOCK_STREAM)\n",
        "mysock.connect((HOST, PORT))\n",
        "mysock.sendall(b'GET http://data.pr4e.org/cover3.jpg HTTP/1.0\\r\\n\\r\\n')\n",
        "count = 0\n",
        "picture = b\"\"\n",
        "\n",
        "while True:\n",
        "    data = mysock.recv(5120)\n",
        "    if len(data) < 1: break\n",
        "    #time = sleep(0.25)\n",
        "    count = count + len(data)\n",
        "    print(len(data), count)\n",
        "    picture = picture[pos+4:]\n",
        "    fhand = open(\"stuff.jpg\",\"wb\")\n",
        "    fhand.write(picture)\n",
        "    fhand.close()\n",
        "       \n",
        "mysock.close()"
      ],
      "execution_count": 5,
      "outputs": [
        {
          "output_type": "stream",
          "text": [
            "5120 5120\n",
            "5120 10240\n",
            "4240 14480\n",
            "5120 19600\n",
            "5120 24720\n",
            "5120 29840\n",
            "5120 34960\n",
            "5120 40080\n",
            "3360 43440\n",
            "5120 48560\n",
            "5120 53680\n",
            "5120 58800\n",
            "5120 63920\n",
            "5120 69040\n",
            "5120 74160\n",
            "5120 79280\n",
            "5120 84400\n",
            "5120 89520\n",
            "3152 92672\n",
            "5120 97792\n",
            "5120 102912\n",
            "5120 108032\n",
            "5120 113152\n",
            "5120 118272\n",
            "5120 123392\n",
            "5120 128512\n",
            "5120 133632\n",
            "5120 138752\n",
            "5120 143872\n",
            "5120 148992\n",
            "5120 154112\n",
            "5120 159232\n",
            "5120 164352\n",
            "5120 169472\n",
            "4224 173696\n",
            "5120 178816\n",
            "5120 183936\n",
            "5120 189056\n",
            "5120 194176\n",
            "5120 199296\n",
            "5120 204416\n",
            "5120 209536\n",
            "5120 214656\n",
            "5120 219776\n",
            "5120 224896\n",
            "5120 230016\n",
            "592 230608\n"
          ],
          "name": "stdout"
        }
      ]
    },
    {
      "cell_type": "code",
      "metadata": {
        "id": "DckAi5o68dQu",
        "colab_type": "code",
        "colab": {
          "base_uri": "https://localhost:8080/",
          "height": 85
        },
        "outputId": "fe3bd1c0-588f-4edb-c7a0-85d1fd450551"
      },
      "source": [
        "# Retrieving web pages with urllib\n",
        "\n",
        "import urllib.request\n",
        "\n",
        "fhand = urllib.request.urlopen('http://data.pr4e.org/romeo.txt')\n",
        "for line in fhand:\n",
        "    print(line.decode().strip())\n"
      ],
      "execution_count": 6,
      "outputs": [
        {
          "output_type": "stream",
          "text": [
            "But soft what light through yonder window breaks\n",
            "It is the east and Juliet is the sun\n",
            "Arise fair sun and kill the envious moon\n",
            "Who is already sick and pale with grief\n"
          ],
          "name": "stdout"
        }
      ]
    },
    {
      "cell_type": "code",
      "metadata": {
        "id": "SqnBpMwC8dQy",
        "colab_type": "code",
        "colab": {
          "base_uri": "https://localhost:8080/",
          "height": 54
        },
        "outputId": "791cf35e-2350-428a-fcb1-796aed82c835"
      },
      "source": [
        "# A program to retrieve the data for romeo.txt n compute the frequency of each word in the file\n",
        "\n",
        "import urllib.request, urllib.parse, urllib.error\n",
        "\n",
        "fhand = urllib.request.urlopen('http://data.pr4e.org/romeo.txt')\n",
        "\n",
        "counts = dict()\n",
        "for line in fhand:\n",
        "    words = line.decode().split()\n",
        "    for word in words:\n",
        "        counts[word] = counts.get(word, 0) + 1\n",
        "        \n",
        "print(counts) \n"
      ],
      "execution_count": 7,
      "outputs": [
        {
          "output_type": "stream",
          "text": [
            "{'But': 1, 'soft': 1, 'what': 1, 'light': 1, 'through': 1, 'yonder': 1, 'window': 1, 'breaks': 1, 'It': 1, 'is': 3, 'the': 3, 'east': 1, 'and': 3, 'Juliet': 1, 'sun': 2, 'Arise': 1, 'fair': 1, 'kill': 1, 'envious': 1, 'moon': 1, 'Who': 1, 'already': 1, 'sick': 1, 'pale': 1, 'with': 1, 'grief': 1}\n"
          ],
          "name": "stdout"
        }
      ]
    },
    {
      "cell_type": "code",
      "metadata": {
        "id": "eOUBfwBD8dQ2",
        "colab_type": "code",
        "colab": {
          "base_uri": "https://localhost:8080/",
          "height": 34
        },
        "outputId": "3e460db8-bc04-4563-d950-f7e1afe476ea"
      },
      "source": [
        "# Reading binary files using urllib\n",
        "\n",
        "# Retrieve a non text (or binary) file such as an image. Easily make a copy of a URL to a local file on hard disk\n",
        "#  using urllib\n",
        "# Avoid running out of memory, retrieve the data in blocks n then write each block to disk b4 retrieving the next\n",
        "#  block\n",
        "# Reads 100000 char at a time and then write to the cover.jpg b4 retrieving the next 100000 char\n",
        "\n",
        "import urllib.request, urllib.parse, urllib.error\n",
        "\n",
        "img = urllib.request.urlopen('http://data.pr4e.org/cover3.jpg')\n",
        "fhand = open('cover3.jpg', 'wb')\n",
        "size = 0\n",
        "while True:\n",
        "    info = img.read(100000)\n",
        "    if len(info) < 1: break\n",
        "    size = size + len(info)\n",
        "    fhand.write(info)\n",
        "\n",
        "print(size, 'characters copied.')\n",
        "fhand.close()\n"
      ],
      "execution_count": 8,
      "outputs": [
        {
          "output_type": "stream",
          "text": [
            "230210 characters copied.\n"
          ],
          "name": "stdout"
        }
      ]
    },
    {
      "cell_type": "code",
      "metadata": {
        "id": "eVDlnNRg8dQ5",
        "colab_type": "code",
        "colab": {}
      },
      "source": [
        "# Parsing HTML n scraping the Web\n",
        "\n",
        "# 'urllib' capability is to scrape the web. Web scraping is when a program pretends to be a web browser n retrieves\n",
        "#  pages, then examine the data in those pages lookin for patterns\n",
        "# Eg. a search engine like Google look at the source of one web page n extract the links to other pages and \n",
        "#  retrieve those pages, extrracting links and so on. Google spiders it way thru nearly all the pages on the web\n",
        "# Google also uses frequency of links from pages it finds to a particular page as one measure of how important\n",
        "# is that page."
      ],
      "execution_count": 10,
      "outputs": []
    },
    {
      "cell_type": "code",
      "metadata": {
        "id": "IBag2B918dQ8",
        "colab_type": "code",
        "colab": {}
      },
      "source": [
        "# Parsing HTML using regular expressions\n",
        "\n",
        "# Re that looks for strings that start with 'href='http://', followed by one or more char (.+?), followed by\n",
        "#  another double quote. The ? behind the [s]? indicates to search for the string http followed by zero or one\n",
        "#  's'\n",
        "# The ? mark added to the .+? indicates that the match is to be done in a 'non greedy' fashion instead of a \n",
        "#  'greedy' fashion \n",
        "# Add parentheses to RE to indicate which part of our matched string, we would extract n produce the program\n",
        "\n",
        "# href=\"http[s]?://.+?\"\n"
      ],
      "execution_count": 11,
      "outputs": []
    },
    {
      "cell_type": "code",
      "metadata": {
        "id": "dIP8A5tW8dQ-",
        "colab_type": "code",
        "colab": {}
      },
      "source": [
        "# Search for lines that start with From and have an at sign\n",
        "# ssl library allows program to access web sites that enforce HTTPS.\n",
        "\n",
        "import urllib.request, urllib.parse, urllib.error\n",
        "import re\n",
        "import ssl \n",
        "\n",
        "# Ignore SSL Certificate errors\n",
        "\n",
        "ctx = ssl.create_default_context()\n",
        "ctx.check_hostname = False\n",
        "ctx.verify_mode = ssl.CERT_NONE"
      ],
      "execution_count": 12,
      "outputs": []
    },
    {
      "cell_type": "code",
      "metadata": {
        "id": "wiwBlN388dRB",
        "colab_type": "code",
        "colab": {
          "base_uri": "https://localhost:8080/",
          "height": 357
        },
        "outputId": "c6470fb2-9961-4a8b-9cd6-9302bf056043"
      },
      "source": [
        "# The read method returns HTML code as bytes object. The findall RE method gives a list of strings that match\n",
        "#  the RE, returning the link text btw double quotes.\n",
        "\n",
        "# RE works well when HTML is well formatted. Lots of broken HTML pages on the web. Using RE can result in bad\n",
        "#  data\n",
        "\n",
        "import urllib.request, urllib.parse, urllib.error\n",
        "import re\n",
        "import ssl \n",
        "\n",
        "url ='https://docs.python.org'\n",
        "html = urllib.request.urlopen(url).read()\n",
        "links = re.findall(b'href=\"(http[s]?://.+?)\"',html)\n",
        "for link in links:\n",
        "    print(link.decode())"
      ],
      "execution_count": 13,
      "outputs": [
        {
          "output_type": "stream",
          "text": [
            "https://docs.python.org/3/index.html\n",
            "https://www.python.org/\n",
            "https://devguide.python.org/docquality/#helping-with-documentation\n",
            "https://docs.python.org/3.10/\n",
            "https://docs.python.org/3.9/\n",
            "https://docs.python.org/3.8/\n",
            "https://docs.python.org/3.7/\n",
            "https://docs.python.org/3.6/\n",
            "https://docs.python.org/3.5/\n",
            "https://docs.python.org/2.7/\n",
            "https://www.python.org/doc/versions/\n",
            "https://www.python.org/dev/peps/\n",
            "https://wiki.python.org/moin/BeginnersGuide\n",
            "https://wiki.python.org/moin/PythonBooks\n",
            "https://www.python.org/doc/av/\n",
            "https://devguide.python.org/\n",
            "https://www.python.org/\n",
            "https://www.python.org/psf/donations/\n",
            "https://docs.python.org/3/bugs.html\n",
            "https://www.sphinx-doc.org/\n"
          ],
          "name": "stdout"
        }
      ]
    },
    {
      "cell_type": "code",
      "metadata": {
        "id": "8LITL-N38dRD",
        "colab_type": "code",
        "colab": {
          "base_uri": "https://localhost:8080/",
          "height": 833
        },
        "outputId": "706f0e02-7f71-44a5-a7c1-a5ee819da4fa"
      },
      "source": [
        "# Parsing HTML using BeautifulSoup \n",
        "\n",
        "import urllib.request, urllib.parse, urllib.error\n",
        "from bs4 import BeautifulSoup\n",
        "import ssl\n",
        "\n",
        "# Ignore SSL Cerificate errors\n",
        "ctx = ssl.create_default_context()\n",
        "ctx.check_hostname = False\n",
        "ctx.verify_mode = ssl.CERT_NONE\n",
        "\n",
        "url ='https://docs.python.org'\n",
        "html = urllib.request.urlopen(url, context=ctx).read()\n",
        "soup = BeautifulSoup(html, 'html.parser')\n",
        "\n",
        "# Retrieve all anchor tags\n",
        "tags = soup('a')\n",
        "for tag in tags:\n",
        "    print(tag.get('href', None))\n"
      ],
      "execution_count": 14,
      "outputs": [
        {
          "output_type": "stream",
          "text": [
            "genindex.html\n",
            "py-modindex.html\n",
            "https://www.python.org/\n",
            "#\n",
            "whatsnew/3.8.html\n",
            "whatsnew/index.html\n",
            "tutorial/index.html\n",
            "library/index.html\n",
            "reference/index.html\n",
            "using/index.html\n",
            "howto/index.html\n",
            "installing/index.html\n",
            "distributing/index.html\n",
            "extending/index.html\n",
            "c-api/index.html\n",
            "faq/index.html\n",
            "py-modindex.html\n",
            "genindex.html\n",
            "glossary.html\n",
            "search.html\n",
            "contents.html\n",
            "bugs.html\n",
            "https://devguide.python.org/docquality/#helping-with-documentation\n",
            "about.html\n",
            "license.html\n",
            "copyright.html\n",
            "download.html\n",
            "https://docs.python.org/3.10/\n",
            "https://docs.python.org/3.9/\n",
            "https://docs.python.org/3.8/\n",
            "https://docs.python.org/3.7/\n",
            "https://docs.python.org/3.6/\n",
            "https://docs.python.org/3.5/\n",
            "https://docs.python.org/2.7/\n",
            "https://www.python.org/doc/versions/\n",
            "https://www.python.org/dev/peps/\n",
            "https://wiki.python.org/moin/BeginnersGuide\n",
            "https://wiki.python.org/moin/PythonBooks\n",
            "https://www.python.org/doc/av/\n",
            "https://devguide.python.org/\n",
            "genindex.html\n",
            "py-modindex.html\n",
            "https://www.python.org/\n",
            "#\n",
            "copyright.html\n",
            "https://www.python.org/psf/donations/\n",
            "https://docs.python.org/3/bugs.html\n",
            "https://www.sphinx-doc.org/\n"
          ],
          "name": "stdout"
        }
      ]
    },
    {
      "cell_type": "code",
      "metadata": {
        "id": "eVcVgqNS8dRG",
        "colab_type": "code",
        "colab": {
          "base_uri": "https://localhost:8080/",
          "height": 119
        },
        "outputId": "691c906c-e8b3-4907-ca83-40daffd48b4e"
      },
      "source": [
        "# Use BeautifulSoup to pull out various parts of each tag\n",
        "\n",
        "import urllib.request, urllib.parse, urllib.error\n",
        "from bs4 import BeautifulSoup\n",
        "import ssl\n",
        "\n",
        "# Ignore SSL Cerificate errors\n",
        "ctx = ssl.create_default_context()\n",
        "ctx.check_hostname = False\n",
        "ctx.verify_mode = ssl.CERT_NONE\n",
        "\n",
        "url ='http://www.dr-chuck.com/page1.htm'\n",
        "html = urllib.request.urlopen(url, context=ctx).read()\n",
        "soup = BeautifulSoup(html, 'html.parser')\n",
        "\n",
        "# Retrieve all anchor tags; Look at the parts of a tag\n",
        "tags = soup('a')\n",
        "for tag in tags:\n",
        "    print('TAG:',tag)\n",
        "    print('URL:', tag.get('href', None))\n",
        "    print('Contents:', tag.contents[0])\n",
        "    print('Attrs:', tag.attrs)\n"
      ],
      "execution_count": 15,
      "outputs": [
        {
          "output_type": "stream",
          "text": [
            "TAG: <a href=\"http://www.dr-chuck.com/page2.htm\">\n",
            "Second Page</a>\n",
            "URL: http://www.dr-chuck.com/page2.htm\n",
            "Contents: \n",
            "Second Page\n",
            "Attrs: {'href': 'http://www.dr-chuck.com/page2.htm'}\n"
          ],
          "name": "stdout"
        }
      ]
    },
    {
      "cell_type": "code",
      "metadata": {
        "id": "3VHR4aKx8dRJ",
        "colab_type": "code",
        "colab": {
          "base_uri": "https://localhost:8080/",
          "height": 51
        },
        "outputId": "c8e49dc8-b431-4b91-9001-72638991838d"
      },
      "source": [
        "# Using Web Services\n",
        "# Parsing XML\n",
        "# Calling fromstring converts the string representation of the XML into a tree of XML nodes\n",
        "# find function searches thru the XML tree and retrieves a node that matches the specified tag\n",
        "# Each node can hv sone txt, some attributes (eg hide) n some 'child' nodes\n",
        "# XML Parser is ElementTree - extracts data from XML without worrying about the rules of XML syntax\n",
        "\n",
        "import xml.etree.ElementTree as ET\n",
        "\n",
        "data = '''\n",
        "<person>\n",
        "  <name>Chuck</name>\n",
        "  <phone type=\"intl\">\n",
        "    +1 734 303 4456\n",
        "  </phone>\n",
        "  <email hide=\"yes\" />\n",
        "</person>'''\n",
        "\n",
        "tree = ET.fromstring(data)\n",
        "print('Name:', tree.find('name').text)\n",
        "print('Attr:', tree.find('email').get('hide'))"
      ],
      "execution_count": 16,
      "outputs": [
        {
          "output_type": "stream",
          "text": [
            "Name: Chuck\n",
            "Attr: yes\n"
          ],
          "name": "stdout"
        }
      ]
    },
    {
      "cell_type": "code",
      "metadata": {
        "id": "DstJxnPU8dRL",
        "colab_type": "code",
        "colab": {
          "base_uri": "https://localhost:8080/",
          "height": 136
        },
        "outputId": "dd431299-2127-4631-ae4f-1106273ca64e"
      },
      "source": [
        "# Looping thru nodes\n",
        "\n",
        "# findall method retrieves a Python list of subtress that represent the user structures in the XML tree\n",
        "# for loop looks at each of the user nodes and prints (name, id and the x attribute from the user node)\n",
        "\n",
        "import xml.etree.ElementTree as ET\n",
        "\n",
        "input = '''\n",
        "<stuff>\n",
        "  <users>\n",
        "    <user x=\"2\">\n",
        "      <id>001</id>\n",
        "      <name>Chuck</name>\n",
        "    </user>\n",
        "    <user x=\"7\">\n",
        "      <id>009</id>\n",
        "      <name>Brent</name>\n",
        "    </user>\n",
        "  </users>\n",
        "</stuff>'''\n",
        "\n",
        "stuff = ET.fromstring(input)\n",
        "lst = stuff.findall('users/user')\n",
        "print('User count:', len(lst))\n",
        "\n",
        "for item in lst:\n",
        "    print('Name', item.find('name').text)\n",
        "    print('Id', item.find('id').text)\n",
        "    print('Attribute', item.get('x'))"
      ],
      "execution_count": 17,
      "outputs": [
        {
          "output_type": "stream",
          "text": [
            "User count: 2\n",
            "Name Chuck\n",
            "Id 001\n",
            "Attribute 2\n",
            "Name Brent\n",
            "Id 009\n",
            "Attribute 7\n"
          ],
          "name": "stdout"
        }
      ]
    },
    {
      "cell_type": "code",
      "metadata": {
        "id": "jF0-Ex9k8dRP",
        "colab_type": "code",
        "colab": {
          "base_uri": "https://localhost:8080/",
          "height": 136
        },
        "outputId": "8fb4e96e-8578-4a6f-d936-25f99a95927a"
      },
      "source": [
        "# JavaScript Object Notation - JSON\n",
        "\n",
        "# JSON is becoming the format of choice for nearly all data exchange btw applications because of its relative\n",
        "# simplicity compared to XML\n",
        "\n",
        "# Parsing JSON\n",
        "\n",
        "# Use the built-in json library to parse the JSON n read theu the data.Getting a list of users and each user\n",
        "# is a set of key-value pairs.\n",
        "# json,loads() is a Python list which we traverse with a for loop n each item within that list is a dict\n",
        "# Once the JSON is parsed, use Python index operator to extract the various bits of data.\n",
        "\n",
        "import json\n",
        "\n",
        "data = '''\n",
        "[\n",
        "  { \"id\" : \"001\",\n",
        "    \"x\" : \"2\",\n",
        "    \"name\" : \"Chuck\"\n",
        "  } ,\n",
        "  { \"id\" : \"009\",\n",
        "    \"x\" : \"7\",\n",
        "    \"name\" : \"Brent\"\n",
        "  }\n",
        "]'''\n",
        "\n",
        "info = json.loads(data)\n",
        "print('User count:', len(info))\n",
        "\n",
        "for item in info:\n",
        "    print('Name', item['name'])\n",
        "    print('Id', item['id'])\n",
        "    print('Attribute', item['x'])"
      ],
      "execution_count": 19,
      "outputs": [
        {
          "output_type": "stream",
          "text": [
            "User count: 2\n",
            "Name Chuck\n",
            "Id 001\n",
            "Attribute 2\n",
            "Name Brent\n",
            "Id 009\n",
            "Attribute 7\n"
          ],
          "name": "stdout"
        }
      ]
    },
    {
      "cell_type": "code",
      "metadata": {
        "id": "mHrlU6pq8dRS",
        "colab_type": "code",
        "colab": {}
      },
      "source": [
        "# Application Programming Interfaces (API)\n",
        "\n",
        "# HTTP - Using HTTP to exchange data btw applications\n",
        "# XML or JSON - represent complex data that we are sending back and forth btw these applications\n",
        "\n",
        "# Define and document contracts btw application. Application to application contracts are APIs\n",
        "# API - make a set of services available for use by other apolications and publishes the APIs (the rules)\n",
        "#  that must be followed to access the services\n",
        "\n",
        "# Service Oriented Architecture(SOA) - the functionality of the programs include access to services provided\n",
        "#  by other programs. A non SOA is where the application is standalone.\n",
        "\n",
        "# Eg Goto a single website and book air ticket, hotel n car all at the same time."
      ],
      "execution_count": 20,
      "outputs": []
    },
    {
      "cell_type": "code",
      "metadata": {
        "id": "C6XCYrJK8dRV",
        "colab_type": "code",
        "colab": {}
      },
      "source": [
        "# Google geocoding web service\n",
        "\n",
        "# Google has a web service that allows for use of their large database of geopgraphic info\n",
        "# submit a geographic search string like 'Ann Arbor MI' to their geocoding API n gets a best guess as to\n",
        "#  where on a map we may find the needed search string\n",
        "\n",
        "# Code: http;//www.py4e.com/code3/geojson.py\n",
        "\n",
        "# the program takes a search string n constructs a URL with the search string as a properly encoded para\n",
        "#  n then uses urllib to retrieve the text from Google geocoding API. Once the JSON data is retrieved, parse it\n",
        "#  with json library n do a few checks, then extract the info.\n",
        "\n",
        "# Code works - long time to to get output\n",
        "\n"
      ],
      "execution_count": 21,
      "outputs": []
    },
    {
      "cell_type": "code",
      "metadata": {
        "id": "Lopes91a8dRY",
        "colab_type": "code",
        "colab": {}
      },
      "source": [
        "# Security & API\n",
        "\n",
        "# Some vendors want increased assurance of the source of the requests, so they expect you to send cryptographically\n",
        "#  signed message. A common tech used to sign requests over the Internet is 'OAuth'\n",
        "#  Eg Twitter. Need to hv a Twitter account n authorize yr Python code as an application, set up a key, secret, token\n",
        "#  n token secret.\n",
        "# For the programs we run with Twitter, set the secrets in 'hidden.py' n then send the desired URL to twurl.augment()\n",
        "#  function n the library code adds all the para to the URL for use.\n",
        "# The program retrieves the timeline for a particulra twitter user n returns it in a JSON string.\n",
        "\n",
        "# Codes not executed because no twitter account to extract key, token, secret\n",
        "\n",
        "# Code: http:/www/py4e.com/code3/hidden.py. see below\n",
        "\n",
        "# Keep this file separate\n",
        "#https://apps.twitter.com/\n",
        "# Create new App and get the four strings\n",
        "\n",
        "#def oauth():\n",
        "    #return {\"consumer_key\": \"h7Lu...Ng\",\n",
        "            #\"consumer_secret\": \"dNKenAC3New...mmn7Q\",\n",
        "            #\"token_key\": \"10185562-eibxCp9n2...P4GEQQOSGI\",\n",
        "            #\"token_secret\": \"H0ycCFemmC4wyf1...qoIpBo\"}\n",
        "            \n",
        "#import urllib.request, urllib.parse, urllib.error\n",
        "#import twurl\n",
        "#import ssl\n",
        "\n",
        "## https://apps.twitter.com/\n",
        "## Create App and get the four strings, put them in hidden.py\n",
        "\n",
        "#TWITTER_URL = 'https://api.twitter.com/1.1/statuses/user_timeline.json'\n",
        "\n",
        "## Ignore SSL certificate errors\n",
        "\n",
        "#ctx = ssl.create_default_context()\n",
        "#ctx.check_hostname = False\n",
        "#ctx.verify_mode = ssl.CERT_NONE\n",
        "\n",
        "#while True:\n",
        "    #print('')\n",
        "    #acct = input('Enter Twitter Account:')\n",
        "    #if (len(acct) < 1): break\n",
        "    #url = twurl.augment(TWITTER_URL,\n",
        "                        #{'screen_name': acct, 'count': '2'})\n",
        "    #print('Retrieving', url)\n",
        "    #connection = urllib.request.urlopen(url, context=ctx)\n",
        "    #data = connection.read().decode()\n",
        "    #print(data[:250])\n",
        "    #headers = dict(connection.getheaders())\n",
        "    \n",
        "    ## print headers\n",
        "    \n",
        "    #print('Remaining', headers['x-rate-limit-remaining'])\n"
      ],
      "execution_count": 22,
      "outputs": []
    },
    {
      "cell_type": "code",
      "metadata": {
        "id": "Bub5XROu8dRa",
        "colab_type": "code",
        "colab": {}
      },
      "source": [
        "# Security & API usage # cont'd\n",
        "\n",
        "\n",
        "#Codes not executed because no twitter account to extract key, token, secret\n",
        "\n",
        "# Set the secrets in hidden.py n send the desired URL to twurl.augment() function\n",
        "# Along with the returned timeline data, Twittter also returns metadata about the request.\n",
        "# One header 'x-rate-linit-remaining' informs on how many more requests that can be made b4 shut off\n",
        "\n",
        "# Since the JSON becomes a set of nested Python lists n dict, can use a combination of the index operations n for\n",
        "#  loops to wander thru the returned data\n",
        "\n",
        "# The last bit of output is where we see the for lopp reading the most recents friend of drchuck twitter account\n",
        "# A great deal more data in the returned JSON. Can also see that the 'find the friends' of a particular account\n",
        "# has a different rete limitation than the # of timeline queries allowed.\n",
        "# These scure API keys allow Twitter to hv confidence that they know who is using their API data. The rate limiting\n",
        "#  approach allows us to do simple personal data retrievals byr does not allow us to build a product that pulls\n",
        "#  data from their API millions of times per day\n",
        "\n",
        "\n",
        "\n",
        "# Example code\n",
        "\n",
        "#import urllib.request, urllib.parse, urllib.error\n",
        "#import twurl\n",
        "#import json\n",
        "#import ssl\n",
        "\n",
        "## https://apps.twitter.com/\n",
        "# #Create App and get the four strings, put them in hidden.py\n",
        "\n",
        "#TWITTER_URL = 'https://api.twitter.com/1.1/friends/list.json'\n",
        "\n",
        "## Ignore SSL certificate errors\n",
        "\n",
        "#ctx = ssl.create_default_context()\n",
        "#ctx.check_hostname = False\n",
        "#ctx.verify_mode = ssl.CERT_NONE\n",
        "\n",
        "#while True:\n",
        "   # print('')\n",
        "   # acct = input('Enter Twitter Account:')\n",
        "   # if (len(acct) < 1): break\n",
        "   #url = twurl.augment(TWITTER_URL,\n",
        "                       # {'screen_name': acct, 'count': '5'})\n",
        "   # print('Retrieving', url)\n",
        "   # connection = urllib.request.urlopen(url, context=ctx)\n",
        "    #data = connection.read().decode()\n",
        "\n",
        "    #js = json.loads(data)\n",
        "    #print(json.dumps(js, indent=2))\n",
        "\n",
        "    #headers = dict(connection.getheaders())\n",
        "    #print('Remaining', headers['x-rate-limit-remaining'])\n",
        "\n",
        "    #for u in js['users']:\n",
        "        #print(u['screen_name'])\n",
        "        #if 'status' not in u:\n",
        "            #print('   * No status found')\n",
        "            #continue\n",
        "        #s = u['status']['text']\n",
        "        #print('  ', s[:50])\n"
      ],
      "execution_count": 23,
      "outputs": []
    },
    {
      "cell_type": "code",
      "metadata": {
        "id": "cbqEgjrc8dRd",
        "colab_type": "code",
        "colab": {
          "base_uri": "https://localhost:8080/",
          "height": 68
        },
        "outputId": "fe1014eb-253a-45bb-d5f5-4dddb5d410f0"
      },
      "source": [
        "# Object Oriented Programming (OOP)\n",
        "\n",
        "# 4 basic programming patterns; Sequential Code, Conditional Code(if statements), Repetitive code (loops) n Store n\n",
        "#  reuse(functions)\n",
        "# Build programs, design data structures n write codes to manipulate the data structures\n",
        "# As programs get to millions of lines, we need to break the program into multiple small pieces\n",
        "# OOP is a way to arrange codes so that you can zoom into 500 lines n understand it while ignoring the other many\n",
        "#  lines of code\n",
        "\n",
        "# Using Objects\n",
        "\n",
        "# Pythom provides many built-in objects\n",
        "\n",
        "# First line is constructing an object of type list, the second and third lines are append() method, the fourth\n",
        "#  line is calling the sort(0 method n the fifth line is retrieving the item at position 0. the sixth line is \n",
        "#  calling the --getitem--() method in the stuff list with a para of zero. Seventh line a way of retrieving the\n",
        "#  0th item in the list\n",
        "\n",
        "stuff = list()\n",
        "stuff.append('python')\n",
        "stuff.append('chuck')\n",
        "stuff.sort()\n",
        "print (stuff[0])\n",
        "print (stuff.__getitem__(0))\n",
        "print (list.__getitem__(stuff,0))\n"
      ],
      "execution_count": 25,
      "outputs": [
        {
          "output_type": "stream",
          "text": [
            "chuck\n",
            "chuck\n",
            "chuck\n"
          ],
          "name": "stdout"
        }
      ]
    },
    {
      "cell_type": "code",
      "metadata": {
        "id": "Np4pwIwR8dRf",
        "colab_type": "code",
        "colab": {
          "base_uri": "https://localhost:8080/",
          "height": 799
        },
        "outputId": "0a01b006-7310-4064-9e85-f6f67c33c62b"
      },
      "source": [
        "# Look into the capabilities of a n object with dir() function\n",
        "\n",
        "stuff = list()\n",
        "dir(stuff)"
      ],
      "execution_count": 26,
      "outputs": [
        {
          "output_type": "execute_result",
          "data": {
            "text/plain": [
              "['__add__',\n",
              " '__class__',\n",
              " '__contains__',\n",
              " '__delattr__',\n",
              " '__delitem__',\n",
              " '__dir__',\n",
              " '__doc__',\n",
              " '__eq__',\n",
              " '__format__',\n",
              " '__ge__',\n",
              " '__getattribute__',\n",
              " '__getitem__',\n",
              " '__gt__',\n",
              " '__hash__',\n",
              " '__iadd__',\n",
              " '__imul__',\n",
              " '__init__',\n",
              " '__init_subclass__',\n",
              " '__iter__',\n",
              " '__le__',\n",
              " '__len__',\n",
              " '__lt__',\n",
              " '__mul__',\n",
              " '__ne__',\n",
              " '__new__',\n",
              " '__reduce__',\n",
              " '__reduce_ex__',\n",
              " '__repr__',\n",
              " '__reversed__',\n",
              " '__rmul__',\n",
              " '__setattr__',\n",
              " '__setitem__',\n",
              " '__sizeof__',\n",
              " '__str__',\n",
              " '__subclasshook__',\n",
              " 'append',\n",
              " 'clear',\n",
              " 'copy',\n",
              " 'count',\n",
              " 'extend',\n",
              " 'index',\n",
              " 'insert',\n",
              " 'pop',\n",
              " 'remove',\n",
              " 'reverse',\n",
              " 'sort']"
            ]
          },
          "metadata": {
            "tags": []
          },
          "execution_count": 26
        }
      ]
    },
    {
      "cell_type": "code",
      "metadata": {
        "id": "k3EPiCn-8dRh",
        "colab_type": "code",
        "colab": {
          "base_uri": "https://localhost:8080/",
          "height": 34
        },
        "outputId": "8c0ad775-baee-403d-d33a-29de57b816a0"
      },
      "source": [
        "# US Floor number\n",
        "\n",
        "usf = '21'\n",
        "wf = int(usf) - 1\n",
        "print('Non-US Floor Number is',wf)"
      ],
      "execution_count": 27,
      "outputs": [
        {
          "output_type": "stream",
          "text": [
            "Non-US Floor Number is 20\n"
          ],
          "name": "stdout"
        }
      ]
    },
    {
      "cell_type": "code",
      "metadata": {
        "id": "zZu-4-8z8dRk",
        "colab_type": "code",
        "colab": {
          "base_uri": "https://localhost:8080/",
          "height": 833
        },
        "outputId": "b02ec0e4-7244-4d43-bba2-00d27ce1c3af"
      },
      "source": [
        "# Building a network of interacting objects n orchestrate the movement of info btw the objects to creat a program\n",
        "\n",
        "# Encapsulation - OOP hide complexity. Need to know how to use urllib n BeautifulSoup but don't need to know how\n",
        "#  these libraries work. Help to focus on the parts we need to solve. Also, developers of say BeautifulSoup\n",
        "# do not need to know how HTML pages are extracted, read or paln for the data.\n",
        "\n",
        "# Read the URL into a string n then pass it into urllib to retrieve data from the web. The urllib library uses\n",
        "#  the socket library to make the actual network connection to retrieve the data. Take the string we get back\n",
        "#  from urllib and hand it to BeautifulSoup for parsing. BeautifulSoup makes use of another object 'html.parser'\n",
        "#  n returns an object. Call the tags() method in the returned object n then get a dict of tag objects n loop\n",
        "#  thru the tags n call the get() method for each tag to print 'hrel'.\n",
        "\n",
        "import urllib.request, urllib.parse, urllib.error\n",
        "from bs4 import BeautifulSoup\n",
        "import ssl\n",
        "\n",
        "# Ignore SSL certificate errors\n",
        "ctx = ssl.create_default_context()\n",
        "ctx.check_hostname = False\n",
        "ctx.verify_mode = ssl.CERT_NONE\n",
        "\n",
        "url ='https://docs.python.org'\n",
        "#url = input('Enter - ')\n",
        "html = urllib.request.urlopen(url, context=ctx).read()\n",
        "soup = BeautifulSoup(html, 'html.parser')\n",
        "\n",
        "# Retrieve all of the anchor tags\n",
        "tags = soup('a')\n",
        "for tag in tags:\n",
        "    print(tag.get('href', None))"
      ],
      "execution_count": 28,
      "outputs": [
        {
          "output_type": "stream",
          "text": [
            "genindex.html\n",
            "py-modindex.html\n",
            "https://www.python.org/\n",
            "#\n",
            "whatsnew/3.8.html\n",
            "whatsnew/index.html\n",
            "tutorial/index.html\n",
            "library/index.html\n",
            "reference/index.html\n",
            "using/index.html\n",
            "howto/index.html\n",
            "installing/index.html\n",
            "distributing/index.html\n",
            "extending/index.html\n",
            "c-api/index.html\n",
            "faq/index.html\n",
            "py-modindex.html\n",
            "genindex.html\n",
            "glossary.html\n",
            "search.html\n",
            "contents.html\n",
            "bugs.html\n",
            "https://devguide.python.org/docquality/#helping-with-documentation\n",
            "about.html\n",
            "license.html\n",
            "copyright.html\n",
            "download.html\n",
            "https://docs.python.org/3.10/\n",
            "https://docs.python.org/3.9/\n",
            "https://docs.python.org/3.8/\n",
            "https://docs.python.org/3.7/\n",
            "https://docs.python.org/3.6/\n",
            "https://docs.python.org/3.5/\n",
            "https://docs.python.org/2.7/\n",
            "https://www.python.org/doc/versions/\n",
            "https://www.python.org/dev/peps/\n",
            "https://wiki.python.org/moin/BeginnersGuide\n",
            "https://wiki.python.org/moin/PythonBooks\n",
            "https://www.python.org/doc/av/\n",
            "https://devguide.python.org/\n",
            "genindex.html\n",
            "py-modindex.html\n",
            "https://www.python.org/\n",
            "#\n",
            "copyright.html\n",
            "https://www.python.org/psf/donations/\n",
            "https://docs.python.org/3/bugs.html\n",
            "https://www.sphinx-doc.org/\n"
          ],
          "name": "stdout"
        }
      ]
    },
    {
      "cell_type": "code",
      "metadata": {
        "id": "TfA624ss8dRn",
        "colab_type": "code",
        "colab": {
          "base_uri": "https://localhost:8080/",
          "height": 85
        },
        "outputId": "a89d2d2d-54b9-4974-c881-89609cfac676"
      },
      "source": [
        "# First Python Object\n",
        "\n",
        "# An object is some code plus data structures that is smaller than a whole program\n",
        "# Use the class keyword to define the data n code that will make up each of the objects. The class keyword\n",
        "#  includes the name of the class n begins an indented block of code where we include the attributes (data) n\n",
        "#  methods(code)\n",
        "# Each method looks like a function, starting with def keyword and consisting of an indented block of codes.\n",
        "#  the example has one attribute(x) n one method(party).the methods hv a special first para named 'self' by\n",
        "#  convention\n",
        "# The class keyword defines a template indicating what data n code will be contained in each object of type\n",
        "#  'PartyAnimal'\n",
        "# First executable line of code - an=PartyAnimal().Where we instruct Python to create an object of the class\n",
        "#  'PartyAnimal'. Python creates the object with the right data n methods n returns the object which is assigned\n",
        "#  to the var 'an'.\n",
        "# Each PartyAnimal object contains a variable x and a method/function 'party'. Call that party method in this line\n",
        "# 'an.party()'When the [party method is called the first para 'self' points to a particular instance of the PartyAnimal\n",
        "#  object that party is called from within. Within the party method is the line 'self.x=self.x+1'.\n",
        "# The dot operator is 'x within self'. Wach time party() is called the internal x value is increased by 1\n",
        "# 'PartyAnimal.party(an)' is anothe way to call the party method within the 'an' object.\n",
        "\n",
        "class PartyAnimal:\n",
        "   x = 0\n",
        "\n",
        "   def party(self) :\n",
        "     self.x = self.x + 1\n",
        "     print(\"So far\",self.x)\n",
        "\n",
        "an = PartyAnimal()\n",
        "an.party()\n",
        "an.party()\n",
        "an.party()\n",
        "PartyAnimal.party(an)"
      ],
      "execution_count": 30,
      "outputs": [
        {
          "output_type": "stream",
          "text": [
            "So far 1\n",
            "So far 2\n",
            "So far 3\n",
            "So far 4\n"
          ],
          "name": "stdout"
        }
      ]
    },
    {
      "cell_type": "code",
      "metadata": {
        "id": "Dokrnape8dRq",
        "colab_type": "code",
        "colab": {
          "base_uri": "https://localhost:8080/",
          "height": 105
        },
        "outputId": "b91c013f-3cbe-47c8-dd1c-abb1e14b51eb"
      },
      "source": [
        "# Classes as types\n",
        "\n",
        "# In Python, all var hv a type. Use the built-in dir function to see the capabilities of a var. Using the class\n",
        "#  keyword, a new type is created. From dir output, can see both the x integer attribute n the party method are\n",
        "#  availabe in the object\n",
        "\n",
        "class PartyAnimal:\n",
        "   x = 0\n",
        "\n",
        "   def party(self) :\n",
        "     self.x = self.x + 1\n",
        "     print(\"So far\",self.x)\n",
        "\n",
        "an = PartyAnimal()\n",
        "print(\"Type\", type(an))\n",
        "print(\"Dir\", dir(an))\n",
        "print(\"Type\", type(an.x))\n",
        "print(\"Type'\", type(an.party))\n"
      ],
      "execution_count": 31,
      "outputs": [
        {
          "output_type": "stream",
          "text": [
            "Type <class '__main__.PartyAnimal'>\n",
            "Dir ['__class__', '__delattr__', '__dict__', '__dir__', '__doc__', '__eq__', '__format__', '__ge__', '__getattribute__', '__gt__', '__hash__', '__init__', '__init_subclass__', '__le__', '__lt__', '__module__', '__ne__', '__new__', '__reduce__', '__reduce_ex__', '__repr__', '__setattr__', '__sizeof__', '__str__', '__subclasshook__', '__weakref__', 'party', 'x']\n",
            "Type <class 'int'>\n",
            "Type' <class 'method'>\n"
          ],
          "name": "stdout"
        }
      ]
    },
    {
      "cell_type": "code",
      "metadata": {
        "id": "j0zKObDu8dRt",
        "colab_type": "code",
        "colab": {
          "base_uri": "https://localhost:8080/",
          "height": 102
        },
        "outputId": "9a6ebb55-3f3c-47ce-f734-3dbd5046873a"
      },
      "source": [
        "# Object Lifecycle\n",
        "\n",
        "# As objects become more complex, need to take action within the object to set things up as the object is being\n",
        "#  constructed n clean up as the object is discarded. Add specially named methods to the object.\n",
        "# As Python is constructing the object, it calls __init__ method to set up some default/initial values for the\n",
        "#  object\n",
        "# When Python see the line 'an=42', it throws the object away so it can reuse the an var to store the value 42\n",
        "# Cannot stop var from being destroyed but can do any cleanup right b4 the object no longer exists\n",
        "# Common when developing object to add a constructor; Rare to need a destructor for an object\n",
        "\n",
        "class PartyAnimal:\n",
        "   x = 0\n",
        "\n",
        "   def __init__(self):\n",
        "     print('I am constructed')\n",
        "\n",
        "   def party(self) :\n",
        "     self.x = self.x + 1\n",
        "     print('So far',self.x)\n",
        "\n",
        "   def __del__(self):\n",
        "     print('I am destructed', self.x)\n",
        "\n",
        "an = PartyAnimal()\n",
        "an.party()\n",
        "an.party()\n",
        "an = 42\n",
        "print('an contains',an)"
      ],
      "execution_count": 32,
      "outputs": [
        {
          "output_type": "stream",
          "text": [
            "I am constructed\n",
            "So far 1\n",
            "So far 2\n",
            "I am destructed 2\n",
            "an contains 42\n"
          ],
          "name": "stdout"
        }
      ]
    },
    {
      "cell_type": "code",
      "metadata": {
        "id": "sv6BjWjl8dRw",
        "colab_type": "code",
        "colab": {
          "base_uri": "https://localhost:8080/",
          "height": 102
        },
        "outputId": "5353b318-8326-41c8-b90c-dd0888647a52"
      },
      "source": [
        "# Many Instances\n",
        "\n",
        "# Making multiple objects from a class. Set up different initial values for each object. \n",
        "# The constructor has both a self para that points to the object instance n then additional para that are passed\n",
        "#   into the constructor as the object is being constructed eg s =PartyAnimal('Sally'). within the constructor, the\n",
        "#  line self.name = nam. Copies the para that is passed in (nam) into the name attribute within the object instance.\n",
        "# Output shows that each of the objects (s and j) contain their own independent coipes of x and nam\n",
        "\n",
        "\n",
        "class PartyAnimal:\n",
        "   x = 0\n",
        "   name = ''\n",
        "   def __init__(self, nam):\n",
        "     self.name = nam\n",
        "     print(self.name,'constructed')\n",
        "\n",
        "   def party(self) :\n",
        "     self.x = self.x + 1\n",
        "     print(self.name,'party count',self.x)\n",
        "\n",
        "s = PartyAnimal('Sally')\n",
        "j = PartyAnimal('MING')\n",
        "\n",
        "s.party()\n",
        "j.party()\n",
        "s.party()\n",
        "\n"
      ],
      "execution_count": 33,
      "outputs": [
        {
          "output_type": "stream",
          "text": [
            "Sally constructed\n",
            "MING constructed\n",
            "Sally party count 1\n",
            "MING party count 1\n",
            "Sally party count 2\n"
          ],
          "name": "stdout"
        }
      ]
    },
    {
      "cell_type": "code",
      "metadata": {
        "id": "TVI2pEsQ8dRz",
        "colab_type": "code",
        "colab": {
          "base_uri": "https://localhost:8080/",
          "height": 156
        },
        "outputId": "f4d5ee76-bc2b-477a-ea1b-00e8ee666773"
      },
      "source": [
        "# Inheritance\n",
        "\n",
        "# Create a new class by extending an existing class. Original class is parent class n the new class is child class\n",
        "# All the var (x) and methods(party) from the PartyAnimal class are inherited by the CricketFan class\n",
        "# Within the six method in the CricketFan class, we can call the party method from the PartyAnimal class. the var\n",
        "#  and methods from the parent class are merged into the child class.\n",
        "# The s and j are independent instances of PartyAnimal n CricketFan. The j object has additional capabilities beyond\n",
        "#  the s object\n",
        "\n",
        "\n",
        "class PartyAnimal:\n",
        "   x = 0\n",
        "   name = ''\n",
        "   def __init__(self, nam):\n",
        "     self.name = nam\n",
        "     print(self.name,'constructed')\n",
        "\n",
        "   def party(self) :\n",
        "     self.x = self.x + 1\n",
        "     print(self.name,'party count',self.x)\n",
        "\n",
        "# import the PartyAnimal class in a new file n extend it \n",
        "# from party import PartyAnimal\n",
        "\n",
        "class CricketFan(PartyAnimal):\n",
        "   points = 0\n",
        "   def six(self):\n",
        "      self.points = self.points + 6\n",
        "      self.party()\n",
        "      print(self.name,\"points\",self.points)\n",
        "\n",
        "s = PartyAnimal(\"Sally\")\n",
        "s.party()\n",
        "j = CricketFan(\"Ming\")\n",
        "j.party()\n",
        "j.six()\n",
        "print(dir(j))\n",
        "    "
      ],
      "execution_count": 34,
      "outputs": [
        {
          "output_type": "stream",
          "text": [
            "Sally constructed\n",
            "Sally party count 1\n",
            "Ming constructed\n",
            "Ming party count 1\n",
            "Ming party count 2\n",
            "Ming points 6\n",
            "['__class__', '__delattr__', '__dict__', '__dir__', '__doc__', '__eq__', '__format__', '__ge__', '__getattribute__', '__gt__', '__hash__', '__init__', '__init_subclass__', '__le__', '__lt__', '__module__', '__ne__', '__new__', '__reduce__', '__reduce_ex__', '__repr__', '__setattr__', '__sizeof__', '__str__', '__subclasshook__', '__weakref__', 'name', 'party', 'points', 'six', 'x']\n"
          ],
          "name": "stdout"
        }
      ]
    },
    {
      "cell_type": "code",
      "metadata": {
        "id": "vuTVAMQr8dR1",
        "colab_type": "code",
        "colab": {
          "base_uri": "https://localhost:8080/",
          "height": 68
        },
        "outputId": "e5517378-b301-4dcb-d343-de013bc758ac"
      },
      "source": [
        "# Summary\n",
        "\n",
        "# First line of progam constructs a list object.\n",
        "# Use the var 'stuff' to point to the returned instance of the first line\n",
        "# Second n third lines, call the append method  with one para to add a new item at the end of the list by updating\n",
        "#  the attributes within stuff.\n",
        "# Fourth line - sort method with no para to sort the data within the stuff object\n",
        "# Fifth line - a shortcut to sixth line\n",
        "stuff = list()\n",
        "stuff.append('python')\n",
        "stuff.append('ming')\n",
        "stuff.sort()\n",
        "print (stuff[0])\n",
        "print (stuff.__getitem__(0))\n",
        "print (list.__getitem__(stuff,0))"
      ],
      "execution_count": 35,
      "outputs": [
        {
          "output_type": "stream",
          "text": [
            "ming\n",
            "ming\n",
            "ming\n"
          ],
          "name": "stdout"
        }
      ]
    },
    {
      "cell_type": "code",
      "metadata": {
        "id": "ywLTkqMA8dR4",
        "colab_type": "code",
        "colab": {
          "base_uri": "https://localhost:8080/",
          "height": 68
        },
        "outputId": "f3f6fbc6-f73e-4d42-cee0-a9da5c6e2095"
      },
      "source": [
        "# Database ?\n",
        "\n",
        "# Database is a file that is organized for storing data. Most databases are organized like a dict that map from\n",
        "#  keys to values. Database is stored on permanent storage. DB softwares perform by building indexes as data is\n",
        "#  added. Many different DB systems (Oracle, Microsoft SQL Server, SQLite). SQLite built into Python. \n",
        "\n",
        "# Databse Concepts\n",
        "\n",
        "# Primary data structures are tables, rows n columns. Technically the relational databases are referred to as\n",
        "#  relation, tuple, attribute respectively.\n",
        "\n",
        "# DB Browser for SQLite is available from http://www.sqlitebrowser.org/. Similar to a text editor for text file.\n",
        "#  In practice, do simple operations in the db manager n more complex operations with Python\n",
        "\n",
        "# Creating a DB table\n",
        "\n",
        "# DB require more defined structure than Python lists or dict.\n",
        "# Tell the DB in advance the names of each col in the table n the type of data (http:www.sqlite.org/datatypes.html)\n",
        "\n",
        "# Code below create a db file n a table 'TRACKS' with 2 col. It connects to a db in the file 'music.sqlite3' in\n",
        "#  the current dir. If file does not exist, it willl be created. A cursor is a file handle that is used to perform\n",
        "#  operations on the data in the db. Calling cursor() is like calling open() for text files. After cursor, execute\n",
        "#  commands  using execute() method.\n",
        "\n",
        "# DB commands are in a special standardized language (Structured Query Language (SQL))\n",
        "# By convention, SQL keywords in uppercase n parts of the command (eg table) in lowercase\n",
        "# The first SQL command removes the Tracks table form the DB\n",
        "# The second command creates a table (Tracks) with a text col named title n an integer col named plays\n",
        "\n",
        "import sqlite3\n",
        "\n",
        "conn = sqlite3.connect('music.sqlite')\n",
        "cur = conn.cursor()\n",
        "\n",
        "cur.execute('DROP TABLE IF EXISTS Tracks')\n",
        "cur.execute('CREATE TABLE Tracks (title TEXT, plays INTEGER)')\n",
        "\n",
        "conn.close()\n",
        "\n",
        "# After creating a table (Tracks), put some data into that table using SQL INSERT. SQL INSERT indicates which\n",
        "#  table that is used  n defines a new row by listing the fields to include (title, plays) followed by 'VALUES'\n",
        "#  Specify the values as question marks (?,?). Actual values are passed in as a tuple('My Way', 15) as the 2nd\n",
        "#  para to the execute() call\n",
        "\n",
        "# Insert 2 rows into the table n use commit() to write the data to the db file.\n",
        "# Use SELECT command to retrieve the rows inserted. On the SELECT comand, indicate which col (title, plays) n which\n",
        "#  table.\n",
        "# Cursor does not read all the data from the db with the SELECT. Data is read on demand as we loop thru the rows\n",
        "#  in the for statement\n",
        "# End Program - SQL Command to DELETE the rows created so that we can run the program over n over. DELETE command\n",
        "#  shows the use of a where clause that allows a selection criterion i.e. instruct the db to apply the command to\n",
        "#  only the rows that match the criterion. After the DELETE , call commit() to remove the data from the db.\n",
        "\n",
        "\n",
        "import sqlite3\n",
        "\n",
        "conn = sqlite3.connect('music.sqlite')\n",
        "cur = conn.cursor()\n",
        "\n",
        "cur.execute('INSERT INTO Tracks (title, plays) VALUES (?, ?)', \n",
        "    ('Thunderstruck', 20))\n",
        "cur.execute('INSERT INTO Tracks (title, plays) VALUES (?, ?)', \n",
        "    ('My Way', 15))\n",
        "conn.commit()\n",
        "\n",
        "print('Tracks:')\n",
        "cur.execute('SELECT title, plays FROM Tracks')\n",
        "for row in cur:\n",
        "     print(row)\n",
        "\n",
        "cur.execute('DELETE FROM Tracks WHERE plays < 100')\n",
        "conn.commit()\n",
        "\n",
        "cur.close()\n",
        "\n"
      ],
      "execution_count": 36,
      "outputs": [
        {
          "output_type": "stream",
          "text": [
            "Tracks:\n",
            "('Thunderstruck', 20)\n",
            "('My Way', 15)\n"
          ],
          "name": "stdout"
        }
      ]
    },
    {
      "cell_type": "code",
      "metadata": {
        "id": "vqyVQDQ-8dR6",
        "colab_type": "code",
        "colab": {}
      },
      "source": [
        "# Structured Query Language (SQL) Summary\n",
        "\n",
        "# Overview of SQL syntax\n",
        "\n",
        "# A relational db is made up of tables, rows n cloumns. The columns have a type (text, numeric or date data)\n",
        "\n",
        "# Create a table:\n",
        "\n",
        "# CREATE TABLE Tracks(title TEXT, plays INTEGER)\n",
        "\n",
        "# Insert a row into a table: INSERT specifies the table name, then a list of the fields/columns, and then VALUES\n",
        "# and a list of values for each of the fields\n",
        "\n",
        "# INSERT INTO Tracks (title, plays) VALUES('My Way', 15)\n",
        "\n",
        "# SQL SELECT is to retrieve rows n cloumns. SELECT specify which columns to retrieve with a WHERE clause to select\n",
        "#  which rows. Also an optional ORDER BY clause sort the returned rows. Use * to return all the col for each row\n",
        "\n",
        "# SELECT * FROM Tracks WHERE title = 'My Way'\n",
        "\n",
        "# Rows be sorted by one of the fields\n",
        "\n",
        "# SELECT title, plays FROM Tracks ORDER by title\n",
        "\n",
        "# Remove a row, Use WHERE clause\n",
        "\n",
        "# DELETE FROM Tracks WHERE Title = 'My Way'\n",
        "\n",
        "# Update Columns within one or more rows in a table. Use UPDATE statement. UPDATE specifies a table n then a list\n",
        "#  of fields n values to change after the SET n then an optional WHERE clause to select the rows to update. A single\n",
        "#  UPDATE statement will change all the rows that match the WHERE clause. If WHERE is not specified, it performs the\n",
        "#  UPDATE on all the rows in the table\n",
        "\n",
        "# UPDATE Tracks SET plays = 16 WHERE title = 'My Way'\n",
        "\n",
        "# 4 basic SQL Commands(INSERT, SELECT, UPDATE, DELETE)\n"
      ],
      "execution_count": 38,
      "outputs": []
    },
    {
      "cell_type": "code",
      "metadata": {
        "id": "UeuZ0P3o8dR8",
        "colab_type": "code",
        "colab": {}
      },
      "source": [
        ""
      ],
      "execution_count": 38,
      "outputs": []
    }
  ]
}